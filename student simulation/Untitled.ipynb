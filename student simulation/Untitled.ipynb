{
 "cells": [
  {
   "cell_type": "code",
   "execution_count": null,
   "id": "a1933e05-989a-4e26-9c22-2081abeb08f4",
   "metadata": {},
   "outputs": [],
   "source": []
  },
  {
   "cell_type": "code",
   "execution_count": 3,
   "id": "4effbf14-c524-4c3d-a67c-c088b05071d9",
   "metadata": {},
   "outputs": [],
   "source": [
    "from faker import Faker\n",
    "\n",
    "fake = Faker('en_In')\n"
   ]
  },
  {
   "cell_type": "code",
   "execution_count": 11,
   "id": "6b508845-bf44-4ef8-8630-f0853b895c92",
   "metadata": {},
   "outputs": [
    {
     "name": "stdout",
     "output_type": "stream",
     "text": [
      "West Bengal\n",
      "Madhya Pradesh\n",
      "Tripura\n",
      "Maharashtra\n",
      "Arunachal Pradesh\n",
      "Himachal Pradesh\n",
      "Mizoram\n",
      "Meghalaya\n",
      "Madhya Pradesh\n",
      "Uttar Pradesh\n",
      "Uttarakhand\n",
      "Jharkhand\n",
      "Meghalaya\n",
      "Kerala\n",
      "Odisha\n",
      "Gujarat\n",
      "Mizoram\n",
      "Chhattisgarh\n",
      "Jharkhand\n",
      "Chhattisgarh\n",
      "Tripura\n",
      "Bihar\n",
      "Punjab\n",
      "Uttar Pradesh\n",
      "Himachal Pradesh\n",
      "Nagaland\n",
      "Tamil Nadu\n",
      "Uttar Pradesh\n",
      "Punjab\n",
      "Chhattisgarh\n"
     ]
    }
   ],
   "source": [
    "Faker.seed(0)\n",
    "for _ in range(30):\n",
    "    print(fake.state())\n",
    "    "
   ]
  },
  {
   "cell_type": "code",
   "execution_count": null,
   "id": "ec393498-cc56-4fb1-8c2d-1d22de0105e6",
   "metadata": {},
   "outputs": [],
   "source": []
  }
 ],
 "metadata": {
  "kernelspec": {
   "display_name": "Python 3 (ipykernel)",
   "language": "python",
   "name": "python3"
  },
  "language_info": {
   "codemirror_mode": {
    "name": "ipython",
    "version": 3
   },
   "file_extension": ".py",
   "mimetype": "text/x-python",
   "name": "python",
   "nbconvert_exporter": "python",
   "pygments_lexer": "ipython3",
   "version": "3.9.7"
  }
 },
 "nbformat": 4,
 "nbformat_minor": 5
}
