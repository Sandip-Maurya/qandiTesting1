{
 "cells": [
  {
   "cell_type": "code",
   "execution_count": null,
   "id": "531d06fa-389d-451d-b32c-5007fb9f7649",
   "metadata": {},
   "outputs": [],
   "source": [
    "from Student import Student\n",
    "from QData import QData\n",
    "\n",
    "import utils\n",
    "import sys,time\n",
    "\n",
    "\n",
    "driver = utils.get_driver()\n",
    "question_data = QData()\n",
    "login_cred = '9910737626' # phone number or email\n",
    "\n",
    "student = Student(driver,'9910737626')\n",
    "\n",
    "student.login()\n",
    "\n",
    "# # wait for otp\n",
    "# # later on this will be changed to constant OTP\n",
    "input(\"enter OTP and press return to continue\")\n",
    "time.sleep(2)\n",
    "\n",
    "student.take_adp_test(driver,question_data,0.9)\n"
   ]
  },
  {
   "cell_type": "code",
   "execution_count": null,
   "id": "65e2028e-28a3-41e6-8307-e52730d9ae05",
   "metadata": {},
   "outputs": [],
   "source": [
    "# expand_xp = '//*[@id=\"expand_topic_313\"]'\n",
    "# expand_elm = driver.find_element_by_xpath(expand_xp)\n",
    "\n",
    "# driver.execute_script(\"arguments[0].click();\", expand_elm)\n"
   ]
  },
  {
   "cell_type": "code",
   "execution_count": 9,
   "id": "f058bc96-af51-41ea-b96f-5cf277ca065f",
   "metadata": {},
   "outputs": [
    {
     "name": "stdout",
     "output_type": "stream",
     "text": [
      "currently on chapter id : 324 , iteration : 1\n",
      "cross\n",
      "cross-2\n",
      "['3']\n",
      "[3]\n",
      "Break due to other reason\n"
     ]
    },
    {
     "ename": "IndexError",
     "evalue": "list index out of range",
     "output_type": "error",
     "traceback": [
      "\u001b[1;31m---------------------------------------------------------------------------\u001b[0m",
      "\u001b[1;31mIndexError\u001b[0m                                Traceback (most recent call last)",
      "\u001b[1;32m~\\AppData\\Local\\Temp/ipykernel_11360/981969283.py\u001b[0m in \u001b[0;36m<module>\u001b[1;34m\u001b[0m\n\u001b[1;32m----> 1\u001b[1;33m \u001b[0mstudent\u001b[0m\u001b[1;33m.\u001b[0m\u001b[0mtake_adp_test\u001b[0m\u001b[1;33m(\u001b[0m\u001b[0mdriver\u001b[0m\u001b[1;33m,\u001b[0m\u001b[0mquestion_data\u001b[0m\u001b[1;33m,\u001b[0m\u001b[1;36m0.9\u001b[0m\u001b[1;33m)\u001b[0m\u001b[1;33m\u001b[0m\u001b[1;33m\u001b[0m\u001b[0m\n\u001b[0m",
      "\u001b[1;32m~\\Uniq Portal Jupyter\\qandiTesting\\student simulation\\Student.py\u001b[0m in \u001b[0;36mtake_adp_test\u001b[1;34m(self, driver, qdata, prob)\u001b[0m\n\u001b[0;32m     53\u001b[0m                     \u001b[0mfq_id\u001b[0m \u001b[1;33m=\u001b[0m \u001b[0madp_test_helper\u001b[0m\u001b[1;33m.\u001b[0m\u001b[0mclick_go_for_it_and_get_id_of_first_q\u001b[0m\u001b[1;33m(\u001b[0m\u001b[0mdriver\u001b[0m\u001b[1;33m)\u001b[0m\u001b[1;33m\u001b[0m\u001b[1;33m\u001b[0m\u001b[0m\n\u001b[0;32m     54\u001b[0m \u001b[1;33m\u001b[0m\u001b[0m\n\u001b[1;32m---> 55\u001b[1;33m                     \u001b[0mrecord_df\u001b[0m \u001b[1;33m=\u001b[0m \u001b[0madp_test_helper\u001b[0m\u001b[1;33m.\u001b[0m\u001b[0mattempt_topic_test\u001b[0m\u001b[1;33m(\u001b[0m\u001b[0mdriver\u001b[0m\u001b[1;33m,\u001b[0m\u001b[0mqdata\u001b[0m\u001b[1;33m,\u001b[0m\u001b[0mtopic_id\u001b[0m\u001b[1;33m,\u001b[0m\u001b[0mchp_id\u001b[0m\u001b[1;33m,\u001b[0m\u001b[0mfq_id\u001b[0m\u001b[1;33m)\u001b[0m\u001b[1;33m\u001b[0m\u001b[1;33m\u001b[0m\u001b[0m\n\u001b[0m\u001b[0;32m     56\u001b[0m \u001b[1;33m\u001b[0m\u001b[0m\n\u001b[0;32m     57\u001b[0m                     \u001b[0mtime\u001b[0m\u001b[1;33m.\u001b[0m\u001b[0msleep\u001b[0m\u001b[1;33m(\u001b[0m\u001b[1;36m2.5\u001b[0m\u001b[1;33m)\u001b[0m\u001b[1;33m\u001b[0m\u001b[1;33m\u001b[0m\u001b[0m\n",
      "\u001b[1;32m~\\Uniq Portal Jupyter\\qandiTesting\\student simulation\\adp_test_helper.py\u001b[0m in \u001b[0;36mattempt_topic_test\u001b[1;34m(driver, qdata, topic_id, chp_id, curr_q_id)\u001b[0m\n\u001b[0;32m    233\u001b[0m \u001b[1;33m\u001b[0m\u001b[0m\n\u001b[0;32m    234\u001b[0m     \u001b[1;31m# submit the test\u001b[0m\u001b[1;33m\u001b[0m\u001b[1;33m\u001b[0m\u001b[0m\n\u001b[1;32m--> 235\u001b[1;33m     \u001b[0msub_test_elm\u001b[0m \u001b[1;33m=\u001b[0m \u001b[0mdriver\u001b[0m\u001b[1;33m.\u001b[0m\u001b[0mfind_elements\u001b[0m\u001b[1;33m(\u001b[0m\u001b[0mBy\u001b[0m\u001b[1;33m.\u001b[0m\u001b[0mXPATH\u001b[0m\u001b[1;33m,\u001b[0m \u001b[0msub_test_xp\u001b[0m\u001b[1;33m)\u001b[0m\u001b[1;33m[\u001b[0m\u001b[1;36m0\u001b[0m\u001b[1;33m]\u001b[0m\u001b[1;33m\u001b[0m\u001b[1;33m\u001b[0m\u001b[0m\n\u001b[0m\u001b[0;32m    236\u001b[0m     \u001b[0mdriver\u001b[0m\u001b[1;33m.\u001b[0m\u001b[0mexecute_script\u001b[0m\u001b[1;33m(\u001b[0m\u001b[1;34m\"arguments[0].click();\"\u001b[0m\u001b[1;33m,\u001b[0m \u001b[0msub_test_elm\u001b[0m\u001b[1;33m)\u001b[0m\u001b[1;33m\u001b[0m\u001b[1;33m\u001b[0m\u001b[0m\n\u001b[0;32m    237\u001b[0m \u001b[1;33m\u001b[0m\u001b[0m\n",
      "\u001b[1;31mIndexError\u001b[0m: list index out of range"
     ]
    }
   ],
   "source": [
    "student.take_adp_test(driver,question_data,0.9)"
   ]
  },
  {
   "cell_type": "code",
   "execution_count": null,
   "id": "6ed04fed-877f-401f-8abd-5e03cae214b7",
   "metadata": {},
   "outputs": [],
   "source": []
  }
 ],
 "metadata": {
  "kernelspec": {
   "display_name": "Python 3 (ipykernel)",
   "language": "python",
   "name": "python3"
  },
  "language_info": {
   "codemirror_mode": {
    "name": "ipython",
    "version": 3
   },
   "file_extension": ".py",
   "mimetype": "text/x-python",
   "name": "python",
   "nbconvert_exporter": "python",
   "pygments_lexer": "ipython3",
   "version": "3.9.7"
  }
 },
 "nbformat": 4,
 "nbformat_minor": 5
}
