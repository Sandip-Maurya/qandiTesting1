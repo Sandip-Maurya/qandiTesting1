{
 "cells": [
  {
   "cell_type": "code",
   "execution_count": 1,
   "id": "96b616c0-4904-4a20-ac46-05daf1376da5",
   "metadata": {},
   "outputs": [],
   "source": [
    "from seleniumwire import webdriver  # Import from seleniumwire\n",
    "from seleniumwire.utils import decode\n",
    "import re, time\n",
    "from selenium.webdriver.common.by import By\n",
    "import pandas as pd\n",
    "import os, re, time, json, random\n",
    "from selenium.common.exceptions import NoSuchElementException, StaleElementReferenceException\n"
   ]
  },
  {
   "cell_type": "code",
   "execution_count": 2,
   "id": "8be2a7f1-46f6-4418-8a16-a195fde52259",
   "metadata": {},
   "outputs": [],
   "source": [
    "driver = webdriver.Chrome(r'C:\\Users\\USER\\.wdm\\drivers\\chromedriver\\win32\\101.0.4951.41\\chromedriver.exe')\n",
    "driver.implicitly_wait(10)\n"
   ]
  },
  {
   "cell_type": "code",
   "execution_count": 3,
   "id": "c0e41fb8-805b-4409-bc9a-90cd8f5377f9",
   "metadata": {},
   "outputs": [],
   "source": [
    "mobile = '9910737626'\n",
    "login_url = 'https://app.thomsondigital2021.com/login'\n",
    "mobile_email_xp = '//*[@id=\"mobile_num\"]'\n",
    "next_btn_xp = '//*[@id=\"mobile-input-btn\"]'\n",
    "enter_otp_xp = '//*[@id=\"otp_num\"]'\n",
    "verify_xp = '//*[@id=\"otp-verify-btn\"]'\n",
    "custom_url = 'https://app.thomsondigital2021.com/exam_custom'\n",
    "\n",
    "sub_xp = '//*[@id=\"Mathematics_btn\"]'\n",
    "save_and_next_xp_f = '//*[@id=\"question_section\"]/div[3]/a[1]'\n",
    "save_and_next_xp_o = '//*[@id=\"question_section\"]/div/div[3]/a[1]'\n",
    "q_type_xp = '//*[@id=\"question_section\"]/div/div[1]/span'\n",
    "sub_test_xp = '//*[@id=\"bt-modal-confirm_over\"]'\n",
    "endExam_xp = '//*[@id=\"endExam\"]'\n",
    "\n",
    "wait = 3\n",
    "prob = 1 # for toppers\n"
   ]
  },
  {
   "cell_type": "code",
   "execution_count": 4,
   "id": "43249259-a7b9-45d7-94cc-e1eb81bcca48",
   "metadata": {},
   "outputs": [],
   "source": [
    "global q_ids\n",
    "q_ids = []\n",
    "\n",
    "file_path = os.path.join( os.getcwd(), 'new\\\\all_live_questions.xlsx')\n",
    "q_data = pd.read_excel(file_path)\n",
    "# q_data[:1]"
   ]
  },
  {
   "cell_type": "code",
   "execution_count": 5,
   "id": "e46267b3-6405-4878-b917-5e4fac0552db",
   "metadata": {},
   "outputs": [],
   "source": [
    "\n",
    "# Login \n",
    "driver.get(login_url)\n",
    "driver.find_element(By.XPATH, mobile_email_xp).send_keys(mobile)\n",
    "# time.sleep(1)\n",
    "next_btn_elm = driver.find_element(By.XPATH, next_btn_xp)\n",
    "driver.execute_script(\"arguments[0].click();\", next_btn_elm)\n",
    "time.sleep(5)\n",
    "\n",
    "otp = []\n",
    "otp_url = 'https://app.thomsondigital2021.com/sendotplogin'\n",
    "for request in driver.requests:\n",
    "    if request.response:\n",
    "        if request.url == otp_url:\n",
    "            test_str = decode(request.response.body, request.response.headers.get('Content-Encoding', 'identity'))\n",
    "            test_str = test_str.decode('UTF-8')\n",
    "            otp += re.findall(r'(\\d+)', test_str)\n",
    "otp = otp[-1]      \n",
    "enter_otp_elm = driver.find_element(By.XPATH, enter_otp_xp).send_keys(otp)\n",
    "time.sleep(1)\n",
    "verify_elm = driver.find_element(By.ID, 'otp-verify-btn')\n",
    "driver.execute_script(\"arguments[0].click();\", verify_elm) \n"
   ]
  },
  {
   "cell_type": "code",
   "execution_count": 6,
   "id": "8c3e572a-d15d-44f7-8afd-cfee333d0872",
   "metadata": {},
   "outputs": [],
   "source": [
    "\n",
    "def get_corr_options_or_ans(q_id, prob):\n",
    "    isItNumQuestion = int(q_data[q_data['question_id']==q_id]['template_type'].values[0])==11\n",
    "    if isItNumQuestion:\n",
    "        ans = re.sub('[\\[\\]\\\"]', '', q_data[q_data['question_id']==q_id]['answers'].values[0])\n",
    "        if random.random() > prob:\n",
    "            ans += 1\n",
    "        return ans\n",
    "    else:\n",
    "        ans_text = q_data[q_data['question_id']==q_id]['answers'].values[0]\n",
    "        ans_text_dict = json.loads(ans_text)\n",
    "        corr_options = list(ans_text_dict.keys())\n",
    "        corr_options = [int(i) for i in corr_options]\n",
    "        incorr_options = [i for i in range(1,5) if i not in corr_options]\n",
    "        if random.random() > prob:\n",
    "            corr_options[0] = incorr_options[0]\n",
    "        return corr_options\n",
    "\n"
   ]
  },
  {
   "cell_type": "code",
   "execution_count": 7,
   "id": "cc77844e-5d7d-4302-9360-6c46d7e5f37f",
   "metadata": {},
   "outputs": [],
   "source": [
    "\n",
    "def do_question_num(save_and_next_xp, wait, curr_q_id):\n",
    "    ans = get_corr_options_or_ans(curr_q_id, prob)\n",
    "    num_ans_box_xp = f'//*[@id=\"quest_option_{curr_q_id}\"]'\n",
    "    num_ans_box_elm = driver.find_element(By.XPATH, num_ans_box_xp)\n",
    "    num_ans_box_elm.clear()\n",
    "    num_ans_box_elm.send_keys(ans)\n",
    "    time.sleep(2)\n",
    "    # num_ans_box_elm.clear()\n",
    "    save_and_next_elm = driver.find_element(By.XPATH, save_and_next_xp)\n",
    "    # time.sleep(1)\n",
    "    driver.execute_script(\"arguments[0].click();\", save_and_next_elm)\n",
    "    return \n"
   ]
  },
  {
   "cell_type": "code",
   "execution_count": 8,
   "id": "844e8835-9a28-42dc-95b1-9d229ed93d9b",
   "metadata": {},
   "outputs": [],
   "source": [
    "\n",
    "def get_curr_q_id():\n",
    "    curr_q_xp = '//*[@id=\"current_question\"]'\n",
    "    curr_q_elm = driver.find_element(By.XPATH, curr_q_xp)\n",
    "    curr_q_id = curr_q_elm.get_attribute('value')    \n",
    "    return int(curr_q_id)\n",
    "# get_curr_q_id()\n"
   ]
  },
  {
   "cell_type": "code",
   "execution_count": 9,
   "id": "2ffbd099-9a44-4931-8367-b85922393444",
   "metadata": {},
   "outputs": [],
   "source": [
    "\n",
    "def do_question(o_xp_format, save_and_next_xp, wait):\n",
    "    curr_q_id = get_curr_q_id()\n",
    "    corr_options = get_corr_options_or_ans(curr_q_id, prob)\n",
    "    for corr_option in corr_options:\n",
    "        o_xp = o_xp_format.replace('{corr_option}', f'{corr_option}')\n",
    "        o_xp_elm = driver.find_element(By.XPATH, o_xp)\n",
    "        time.sleep(0.5)\n",
    "        driver.execute_script(\"arguments[0].click();\", o_xp_elm)\n",
    "    # click save and next after wait time is over\n",
    "    time.sleep(0.5)\n",
    "\n",
    "    save_and_next_elm = driver.find_element(By.XPATH, save_and_next_xp)\n",
    "    driver.execute_script(\"arguments[0].click();\", save_and_next_elm)\n",
    "    \n",
    "    time.sleep(2)\n",
    "    endExam_elm = driver.find_element(By.XPATH, endExam_xp)\n",
    "    curr_id_temp = get_curr_q_id()\n",
    "    \n",
    "    if curr_id_temp == curr_q_id and endExam_elm.value_of_css_property('display') == 'none':\n",
    "        try:\n",
    "            do_question(o_xp_format, save_and_next_xp, wait)\n",
    "        except:\n",
    "            input(f'Please do the question manually {corr_options}')\n",
    "    return\n"
   ]
  },
  {
   "cell_type": "code",
   "execution_count": 10,
   "id": "f36662c9-8193-486d-a994-501448ad111d",
   "metadata": {},
   "outputs": [],
   "source": [
    "# q_ids\n",
    "def get_subject_and_topic_from_q_id(curr_q_id):\n",
    "    curr_df = q_data[q_data['question_id']==curr_q_id]\n",
    "    subject_id = curr_df['subject_id'].values[0]\n",
    "    topic_id = curr_df['topic_id'].values[0]\n",
    "    \n",
    "    return subject_id, int(topic_id)\n"
   ]
  },
  {
   "cell_type": "code",
   "execution_count": 11,
   "id": "3189bbf7-d041-402b-97c0-4e532f01c841",
   "metadata": {},
   "outputs": [],
   "source": [
    "# Attempt Topic test\n",
    "o_xp_o_format = '//*[@id=\"question_section\"]/div/div[2]/div[2]/div[{corr_option}]/div/label'\n",
    "o_xp_f_format = '//*[@id=\"question_section\"]/div[2]/div[2]/div[{corr_option}]/div/label'\n",
    "\n",
    "def do_topic_test():\n",
    "    \n",
    "    # Do first question\n",
    "    curr_q_id = get_curr_q_id()\n",
    "    subject_id, topic_id = get_subject_and_topic_from_q_id(curr_q_id)\n",
    "    q_ids.append(curr_q_id)\n",
    "    q_type_elm = driver.find_element(By.XPATH, q_type_xp)\n",
    "    q_type = q_type_elm.get_attribute('innerText')\n",
    "    try:\n",
    "        if q_type == 'NUMERICAL' or int(q_data[q_data['question_id']==curr_q_id]['template_type'].values[0])==11:\n",
    "            do_question_num(save_and_next_xp_f, wait, curr_q_id)\n",
    "        else:\n",
    "            do_question(o_xp_f_format, save_and_next_xp_f, wait)\n",
    "    except StaleElementReferenceException:\n",
    "        pass\n",
    "        \n",
    "\n",
    "    # Do other questions\n",
    "    sub_test_elm = driver.find_element(By.XPATH, sub_test_xp)\n",
    "    test_end_condition = sub_test_elm.get_attribute('innerText')\n",
    "    while test_end_condition != 'SUBMIT TEST':\n",
    "        \n",
    "        curr_q_id = get_curr_q_id()\n",
    "        q_ids.append(curr_q_id)\n",
    "        q_type_elm = driver.find_element(By.XPATH, q_type_xp)\n",
    "        q_type = q_type_elm.get_attribute('innerText')\n",
    "        try:\n",
    "            if q_type == 'NUMERICAL' or int(q_data[q_data['question_id']==curr_q_id]['template_type'].values[0])==11:\n",
    "                do_question_num(save_and_next_xp_o, wait, curr_q_id)\n",
    "            else:\n",
    "                do_question(o_xp_o_format, save_and_next_xp_o, wait)\n",
    "                \n",
    "            test_end_condition = sub_test_elm.get_attribute('innerText')\n",
    "        # except StaleElementReferenceException:\n",
    "        except:\n",
    "            test_end_condition = sub_test_elm.get_attribute('innerText')\n",
    "                \n",
    "    time.sleep(1)\n",
    "    # end_exam_elm = driver.find_element(By.XPATH, sub_test_xp)\n",
    "    SUB_TEST_elm = driver.find_element(By.ID, 'bt-modal-confirm_over')\n",
    "    time.sleep(1)\n",
    "    driver.execute_script(\"arguments[0].click();\", SUB_TEST_elm)\n",
    "    driver.save_screenshot(os.path.join(os.getcwd(),'botTestOutput',f'subject_id-{subject_id}  topic_id-{topic_id}.png'))\n",
    "    \n",
    "    return \n"
   ]
  },
  {
   "cell_type": "code",
   "execution_count": 12,
   "id": "e663ad74-c83d-49df-87e3-f7713918b0f7",
   "metadata": {},
   "outputs": [],
   "source": [
    "\n",
    "def start_topic_test(topic_id):\n",
    "    \n",
    "    topic_select_elm = driver.find_element(By.ID, f\"chpt_topic_{topic_id}\")\n",
    "    time.sleep(0.5)\n",
    "    driver.execute_script(\"arguments[0].click();\", topic_select_elm)\n",
    "    take_test_for_sel_topic_elm = driver.find_element(By.XPATH, '//*[@id=\"topic_custom_footer\"]/button')\n",
    "    time.sleep(0.5)\n",
    "    driver.execute_script(\"arguments[0].click();\", take_test_for_sel_topic_elm)\n",
    "    time.sleep(1)\n",
    "    go_for_it_elm = driver.find_element(By.XPATH, '//*[@id=\"goto-exam-btn\"]')\n",
    "    time.sleep(0.5)\n",
    "    driver.execute_script(\"arguments[0].click();\", go_for_it_elm)\n",
    "\n",
    "    test_instruction_elm = driver.find_element(By.ID, 'test_instruction')\n",
    "    driver.execute_script(\"arguments[0].click();\", go_for_it_elm)\n",
    "    time.sleep(0.5)\n",
    "    while test_instruction_elm.is_displayed():\n",
    "        driver.execute_script(\"arguments[0].click();\", go_for_it_elm)\n",
    "        test_instruction_elm = driver.find_element(By.ID, 'test_instruction')\n",
    "        print('At instruction page')\n",
    "        time.sleep(0.5)\n",
    "    return\n"
   ]
  },
  {
   "cell_type": "code",
   "execution_count": 13,
   "id": "989db5a9-6665-47bf-81e7-ebf541897dcc",
   "metadata": {},
   "outputs": [],
   "source": [
    "\n",
    "def get_topic_ids(chp_id):\n",
    "    time.sleep(1)\n",
    "    chap_box_content = driver.find_element(By.ID, f'chapter_box_{chp_id}').get_attribute('innerHTML')\n",
    "    topic_ids = re.findall(r'id=\"chpt_topic_(\\d+)\"', chap_box_content)\n",
    "    topic_ids = [int(i) for i in topic_ids]\n",
    "    return topic_ids\n"
   ]
  },
  {
   "cell_type": "code",
   "execution_count": 14,
   "id": "eea0bf49-9c57-48e6-9fea-c9fd91af47b5",
   "metadata": {},
   "outputs": [],
   "source": [
    "\n",
    "def expand_chapter(chp_id):\n",
    "    driver.get(custom_url)\n",
    "    time.sleep(1)\n",
    "    chp_expand_elm = driver.find_element(By.ID, f\"expandTopic_{chp_id}\")\n",
    "    time.sleep(1)\n",
    "    driver.execute_script(\"arguments[0].click();\", chp_expand_elm)\n",
    "    time.sleep(0.5)\n",
    "    return \n"
   ]
  },
  {
   "cell_type": "code",
   "execution_count": 15,
   "id": "a2e963fe-b8b6-4179-bd48-17eacbba8d4f",
   "metadata": {},
   "outputs": [],
   "source": [
    "def get_chap_ids(subject):\n",
    "    \n",
    "    driver.get(custom_url)\n",
    "    subject_list_innerHTML = driver.find_element(By.ID,f'{subject}_list').get_attribute('innerHTML')\n",
    "    \n",
    "    chp_ids = re.findall(r'id=\"chapter_box_(\\d+)\"', subject_list_innerHTML)\n",
    "    chp_ids = [int(i) for i in chp_ids]\n",
    "    return chp_ids\n",
    "\n",
    "subjects = ['Mathematics', 'Physics', 'Chemistry']\n",
    "math_chp_ids = get_chap_ids(subjects[0])\n",
    "phy_chp_ids = get_chap_ids(subjects[1])\n",
    "chem_chp_ids = get_chap_ids(subjects[2])\n"
   ]
  },
  {
   "cell_type": "code",
   "execution_count": null,
   "id": "c417f7c4-3f4d-4e06-bbae-d52749982776",
   "metadata": {
    "scrolled": true,
    "tags": []
   },
   "outputs": [
    {
     "name": "stdin",
     "output_type": "stream",
     "text": [
      "Please do the question manually [1] \n"
     ]
    },
    {
     "name": "stdout",
     "output_type": "stream",
     "text": [
      "Topics completed: 1\n",
      "Topics completed: 2\n",
      "Topics completed: 3\n",
      "Chapters completed: 1\n",
      "Topics completed: 1\n"
     ]
    },
    {
     "name": "stdin",
     "output_type": "stream",
     "text": [
      "Please do the question manually [1] \n"
     ]
    },
    {
     "name": "stdout",
     "output_type": "stream",
     "text": [
      "Topics completed: 2\n",
      "Topics completed: 3\n"
     ]
    },
    {
     "name": "stdin",
     "output_type": "stream",
     "text": [
      "Please do the question manually [3] \n"
     ]
    },
    {
     "name": "stdout",
     "output_type": "stream",
     "text": [
      "Topics completed: 4\n",
      "Chapters completed: 2\n",
      "Topics completed: 1\n",
      "Chapters completed: 3\n",
      "Topics completed: 1\n",
      "Topics completed: 2\n"
     ]
    },
    {
     "name": "stdin",
     "output_type": "stream",
     "text": [
      "Please do the question manually [3] \n"
     ]
    },
    {
     "name": "stdout",
     "output_type": "stream",
     "text": [
      "Topics completed: 3\n",
      "Topics completed: 4\n",
      "Topics completed: 5\n",
      "Chapters completed: 4\n",
      "Topics completed: 1\n",
      "Topics completed: 2\n",
      "Topics completed: 3\n",
      "Topics completed: 4\n",
      "Topics completed: 5\n",
      "Topics completed: 6\n",
      "Topics completed: 7\n",
      "Chapters completed: 5\n",
      "Topics completed: 1\n",
      "Topics completed: 2\n",
      "Topics completed: 3\n",
      "Topics completed: 4\n",
      "Topics completed: 5\n",
      "Chapters completed: 6\n",
      "Topics completed: 1\n"
     ]
    },
    {
     "name": "stdin",
     "output_type": "stream",
     "text": [
      "Please do the question manually [3] \n"
     ]
    },
    {
     "name": "stdout",
     "output_type": "stream",
     "text": [
      "Topics completed: 2\n",
      "Topics completed: 3\n",
      "Chapters completed: 7\n",
      "Topics completed: 1\n"
     ]
    },
    {
     "name": "stdin",
     "output_type": "stream",
     "text": [
      "Please do the question manually [1] \n"
     ]
    },
    {
     "name": "stdout",
     "output_type": "stream",
     "text": [
      "Topics completed: 2\n"
     ]
    }
   ],
   "source": [
    "# Adaptive test starts\n",
    "\n",
    "\n",
    "chp_no = 0\n",
    "for chp_id in math_chp_ids[:10]:\n",
    "    time.sleep(0.5)\n",
    "    expand_chapter(chp_id)\n",
    "    time.sleep(0.5)\n",
    "    topic_ids = get_topic_ids(chp_id)\n",
    "    topic_no = 0\n",
    "    for topic_id in topic_ids:\n",
    "        try:\n",
    "            start_topic_test(topic_id)\n",
    "            do_topic_test()\n",
    "        except:\n",
    "            pass\n",
    "        expand_chapter(chp_id)\n",
    "        topic_no+=1\n",
    "        print(f'Topics completed: {topic_no}')\n",
    "\n",
    "    chp_no+=1\n",
    "    print(f'Chapters completed: {chp_no}')\n",
    "  "
   ]
  },
  {
   "cell_type": "code",
   "execution_count": null,
   "id": "873a4d62-9faa-4b36-9025-4483006d94fb",
   "metadata": {},
   "outputs": [],
   "source": []
  },
  {
   "cell_type": "code",
   "execution_count": null,
   "id": "4bf004dd-5af3-43da-b40e-afb4a81ef5ff",
   "metadata": {},
   "outputs": [],
   "source": []
  },
  {
   "cell_type": "code",
   "execution_count": null,
   "id": "010cf29c-04d5-49ca-857a-997d47d1139c",
   "metadata": {},
   "outputs": [],
   "source": []
  },
  {
   "cell_type": "code",
   "execution_count": null,
   "id": "6d31ed67-51cd-4ccc-b7ec-f7df924d3cd5",
   "metadata": {},
   "outputs": [],
   "source": [
    "# For capturing network activity\n",
    "\n",
    "for request in driver.requests:\n",
    "    if request.response and request.url == 'https://app.qandi.com/saveAdaptiveAnswer':\n",
    "        print(request.url, request.body, decode(request.response.body), decode(request.response.body, request.response.headers.get('Content-Encoding', 'identity')))\n"
   ]
  },
  {
   "cell_type": "code",
   "execution_count": null,
   "id": "57c9c72c-5c15-4ebb-8e88-de74fdd0073e",
   "metadata": {},
   "outputs": [],
   "source": []
  },
  {
   "cell_type": "code",
   "execution_count": null,
   "id": "f3a9385e-3994-47c4-944f-92158ff0b97b",
   "metadata": {},
   "outputs": [],
   "source": []
  },
  {
   "cell_type": "code",
   "execution_count": null,
   "id": "149c5533-e230-47ff-89a0-b00dca70eaf0",
   "metadata": {},
   "outputs": [],
   "source": []
  },
  {
   "cell_type": "code",
   "execution_count": null,
   "id": "407aa3a0-69f0-4c23-bb54-8346f51db672",
   "metadata": {},
   "outputs": [],
   "source": []
  },
  {
   "cell_type": "code",
   "execution_count": null,
   "id": "e2261177-cb03-4756-bf42-dfede6f5ca09",
   "metadata": {},
   "outputs": [],
   "source": []
  },
  {
   "cell_type": "code",
   "execution_count": null,
   "id": "bb9c2eca-f2a3-436c-9379-e93cc8aefa17",
   "metadata": {},
   "outputs": [],
   "source": []
  },
  {
   "cell_type": "code",
   "execution_count": null,
   "id": "1b1c4990-3e81-4a51-9c7c-9ac57be040ad",
   "metadata": {},
   "outputs": [],
   "source": []
  },
  {
   "cell_type": "code",
   "execution_count": null,
   "id": "0f3d9bd5-4ac2-4ea7-8390-a15535e5e045",
   "metadata": {},
   "outputs": [],
   "source": []
  }
 ],
 "metadata": {
  "kernelspec": {
   "display_name": "Python 3 (ipykernel)",
   "language": "python",
   "name": "python3"
  },
  "language_info": {
   "codemirror_mode": {
    "name": "ipython",
    "version": 3
   },
   "file_extension": ".py",
   "mimetype": "text/x-python",
   "name": "python",
   "nbconvert_exporter": "python",
   "pygments_lexer": "ipython3",
   "version": "3.9.7"
  }
 },
 "nbformat": 4,
 "nbformat_minor": 5
}
