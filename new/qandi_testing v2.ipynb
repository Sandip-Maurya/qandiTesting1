{
 "cells": [
  {
   "cell_type": "code",
   "execution_count": 1,
   "id": "5c3caf6d-f42b-4b69-8c57-11696adf6bb1",
   "metadata": {},
   "outputs": [],
   "source": [
    "from selenium.webdriver.chrome.options import Options\n",
    "from selenium import webdriver\n",
    "from selenium.webdriver.chrome.service import Service\n",
    "from webdriver_manager.chrome import ChromeDriverManager\n",
    "from selenium.webdriver.common.by import By\n",
    "from datetime import datetime\n",
    "import pandas as pd\n",
    "import os, re, time, json, random\n",
    "from selenium.common.exceptions import NoSuchElementException, StaleElementReferenceException\n",
    "from selenium.webdriver import DesiredCapabilities\n"
   ]
  },
  {
   "cell_type": "code",
   "execution_count": 2,
   "id": "0b6ea52e-778e-4977-91bb-9270bbab75d6",
   "metadata": {},
   "outputs": [
    {
     "name": "stderr",
     "output_type": "stream",
     "text": [
      "\n",
      "\n",
      "====== WebDriver manager ======\n",
      "Current google-chrome version is 101.0.4951\n",
      "Get LATEST chromedriver version for 101.0.4951 google-chrome\n",
      "Trying to download new driver from https://chromedriver.storage.googleapis.com/101.0.4951.41/chromedriver_win32.zip\n",
      "Driver has been saved in cache [C:\\Users\\USER\\.wdm\\drivers\\chromedriver\\win32\\101.0.4951.41]\n"
     ]
    }
   ],
   "source": [
    "# make chrome log requests\n",
    "capabilities = DesiredCapabilities.CHROME\n",
    "capabilities[\"goog:loggingPrefs\"] = {\"performance\": \"ALL\"}  # chromedriver 75+\n",
    "# starts browser\n",
    "driver = webdriver.Chrome(service=Service(ChromeDriverManager().install()), desired_capabilities=capabilities)\n",
    "driver.implicitly_wait(10)\n"
   ]
  },
  {
   "cell_type": "code",
   "execution_count": 39,
   "id": "ebff2f4b-8ba2-4087-bb20-62975b30f77d",
   "metadata": {},
   "outputs": [],
   "source": [
    "mobile = '9910737626'\n",
    "login_url = 'https://app.qandi.com/login'\n",
    "mobile_email_xp = '//*[@id=\"mobile_num\"]'\n",
    "next_btn_xp = '//*[@id=\"mobile-input-btn\"]'\n",
    "enter_otp_xp = '//*[@id=\"otp_num\"]'\n",
    "verify_xp = '//*[@id=\"otp-verify-btn\"]'\n",
    "custom_url = 'https://app.qandi.com/exam_custom'\n",
    "\n",
    "sub_xp = '//*[@id=\"Mathematics_btn\"]'\n",
    "save_and_next_xp_f = '//*[@id=\"question_section\"]/div[3]/a[1]'\n",
    "save_and_next_xp_o = '//*[@id=\"question_section\"]/div/div[3]/a[1]'\n",
    "q_type_xp = '//*[@id=\"question_section\"]/div/div[1]/span'\n",
    "sub_test_xp = '//*[@id=\"bt-modal-confirm_over\"]'\n",
    "end_exam_xp = '//*[@id=\"endExam\"]/div/div'\n",
    "\n",
    "wait = 3\n",
    "prob = 1 # for toppers\n"
   ]
  },
  {
   "cell_type": "code",
   "execution_count": 4,
   "id": "0422980f-f837-45d5-9575-a0d22ea506ff",
   "metadata": {},
   "outputs": [],
   "source": [
    "q_data = pd.read_excel('all_live_questions.xlsx')\n",
    "# q_data[:1]"
   ]
  },
  {
   "cell_type": "code",
   "execution_count": 5,
   "id": "1b2e4836-9554-4fdb-89cc-5a683384a0a6",
   "metadata": {},
   "outputs": [],
   "source": [
    "# Login to qandi\n",
    "\n",
    "def login():\n",
    "    driver.get(login_url)\n",
    "\n",
    "    driver.find_element(By.ID, 'mobile_num').send_keys(mobile)\n",
    "    time.sleep(1)\n",
    "    next_btn_elm = driver.find_element(By.ID, 'mobile-input-btn')\n",
    "\n",
    "    try:\n",
    "        next_btn_elm.click()\n",
    "        enter_otp_elm = driver.find_element(By.ID, 'otp_num')\n",
    "        otp = input('Please input otp and then press enter to continue:')\n",
    "        enter_otp_elm.send_keys(otp)\n",
    "        try:\n",
    "            verify_elm = driver.find_element(By.ID, 'otp-verify-btn')\n",
    "            driver.execute_script(\"arguments[0].click();\", verify_elm) \n",
    "        except:\n",
    "            verify_elm.click()\n",
    "                   \n",
    "    except:\n",
    "        try:\n",
    "            driver.execute_script(\"arguments[0].click();\", next_btn_elm)\n",
    "            enter_otp_elm = driver.find_element(By.ID, 'otp_num')\n",
    "        except:\n",
    "            print('Not able to login')\n",
    "    return\n",
    "    "
   ]
  },
  {
   "cell_type": "code",
   "execution_count": 16,
   "id": "ba648d4e-67ce-4250-a8f5-283945192156",
   "metadata": {},
   "outputs": [
    {
     "name": "stdin",
     "output_type": "stream",
     "text": [
      "Please input otp and then press enter to continue: 83126\n"
     ]
    }
   ],
   "source": [
    "login()"
   ]
  },
  {
   "cell_type": "code",
   "execution_count": 7,
   "id": "6cdea4eb-a392-401d-9814-62291825bcdb",
   "metadata": {},
   "outputs": [],
   "source": [
    "\n",
    "def get_topic_ids(chp_id):\n",
    "    chap_box_content = driver.find_element(By.ID, f'chapter_box_{chp_id}').get_attribute('innerHTML')\n",
    "    topic_ids = re.findall(r'id=\"chpt_topic_(\\d+)\"', chap_box_content)\n",
    "    topic_ids = [int(i) for i in topic_ids]\n",
    "    return topic_ids\n"
   ]
  },
  {
   "cell_type": "code",
   "execution_count": 17,
   "id": "79f751c1-85be-44db-8a07-4ed5f845a1ac",
   "metadata": {},
   "outputs": [],
   "source": [
    "\n",
    "def get_curr_q_id():\n",
    "    curr_q_xp = '//*[@id=\"current_question\"]'\n",
    "    curr_q_elm = driver.find_element(By.XPATH, curr_q_xp)\n",
    "    curr_q_id = curr_q_elm.get_attribute('value')    \n",
    "    return int(curr_q_id)\n",
    "# get_curr_q_id()\n"
   ]
  },
  {
   "cell_type": "code",
   "execution_count": 34,
   "id": "d875edbd-62e9-4705-9416-8f8a6a841694",
   "metadata": {},
   "outputs": [],
   "source": [
    "\n",
    "def get_corr_options_or_ans(q_id, prob):\n",
    "    isItNumQuestion = int(q_data[q_data['question_id']==q_id]['template_type'].values[0])==11\n",
    "    if isItNumQuestion:\n",
    "        ans = re.sub('[\\[\\]\\\"]', '', q_data[q_data['question_id']==curr_q_id]['answers'].values[0])\n",
    "        if random.random() > prob:\n",
    "            ans += 1\n",
    "        return ans\n",
    "    else:\n",
    "        ans_text = q_data[q_data['question_id']==q_id]['answers'].values[0]\n",
    "        ans_text_dict = json.loads(ans_text)\n",
    "        corr_options = list(ans_text_dict.keys())\n",
    "        corr_options = [int(i) for i in corr_options]\n",
    "        incorr_options = [i for i in range(1,5) if i not in corr_options]\n",
    "        if random.random() > prob:\n",
    "            corr_options[0] = incorr_options[0]\n",
    "        return corr_options\n",
    "\n"
   ]
  },
  {
   "cell_type": "code",
   "execution_count": 112,
   "id": "4156a3f7-fa55-402f-af18-b0e9482d54f3",
   "metadata": {},
   "outputs": [],
   "source": [
    "\n",
    "def do_question(o_xps, save_and_next_xp, wait, curr_q_id):\n",
    "    # choose option\n",
    "    \n",
    "    for o_xp in o_xps:\n",
    "        o_xp_elm = driver.find_element(By.XPATH, o_xp)\n",
    "        time.sleep(1)\n",
    "        driver.execute_script(\"arguments[0].click();\", o_xp_elm)\n",
    "    # click save and next after wait time is over\n",
    "    time.sleep(wait)\n",
    "    save_and_next_elm = driver.find_element(By.XPATH, save_and_next_xp)\n",
    "    time.sleep(0.5)\n",
    "    driver.execute_script(\"arguments[0].click();\", save_and_next_elm)\n",
    "    \n",
    "    time.sleep(1)\n",
    "    curr_id_temp = get_curr_q_id()\n",
    "    qoption_err_xp = f'//*[@id=\"qoption_err_{curr_id_temp}\"]'\n",
    "    qoption_err_elm = driver.find_element(By.XPATH, qoption_err_xp)\n",
    "\n",
    "    if curr_id_temp == curr_q_id :\n",
    "        if qoption_err_elm.value_of_css_property('display') == 'none':\n",
    "            time.sleep(1)\n",
    "            driver.execute_script(\"arguments[0].click();\", save_and_next_elm)\n",
    "        # save_and_next_elm.click()\n",
    "        else:\n",
    "            for o_xp in o_xps:\n",
    "                o_xp_elm = driver.find_element(By.XPATH, o_xp)\n",
    "                time.sleep(1)\n",
    "                driver.execute_script(\"arguments[0].click();\", o_xp_elm)\n",
    "            # click save and next after wait time is over\n",
    "            time.sleep(wait)\n",
    "            save_and_next_elm = driver.find_element(By.XPATH, save_and_next_xp)\n",
    "            time.sleep(0.5)\n",
    "            driver.execute_script(\"arguments[0].click();\", save_and_next_elm)\n",
    "    return\n"
   ]
  },
  {
   "cell_type": "code",
   "execution_count": 20,
   "id": "96a7418f-c426-4c10-b7ab-61c083eb7162",
   "metadata": {},
   "outputs": [],
   "source": [
    "\n",
    "def do_question_num(ans, save_and_next_xp, wait, curr_q_id):\n",
    "    \n",
    "    \n",
    "    num_ans_box_xp = f'//*[@id=\"quest_option_{curr_q_id}\"]'\n",
    "    num_ans_box_elm = driver.find_element(By.XPATH, num_ans_box_xp)\n",
    "    num_ans_box_elm.send_keys(ans)\n",
    "    time.sleep(wait)\n",
    "    save_and_next_elm = driver.find_element(By.XPATH, save_and_next_xp)\n",
    "    time.sleep(1)\n",
    "    driver.execute_script(\"arguments[0].click();\", save_and_next_elm)\n",
    "    return \n"
   ]
  },
  {
   "cell_type": "code",
   "execution_count": 110,
   "id": "301ae7b1-c0db-4ae7-a940-c190c6ba2ada",
   "metadata": {
    "scrolled": true,
    "tags": []
   },
   "outputs": [],
   "source": [
    "# Attempt Topic test\n",
    "\n",
    "def do_topic_test():\n",
    "    \n",
    "    # Do first question\n",
    "    curr_q_id = get_curr_q_id()\n",
    "    # print(curr_q_id)\n",
    "    q_type_elm = driver.find_element(By.XPATH, q_type_xp)\n",
    "    q_type = q_type_elm.get_attribute('innerText')\n",
    "    try:\n",
    "        if q_type == 'NUMERICAL' or int(q_data[q_data['question_id']==curr_q_id]['template_type'].values[0])==11:\n",
    "            ans = get_corr_options_or_ans(curr_q_id, prob)\n",
    "            do_question_num(ans, save_and_next_xp_f, wait, curr_q_id)\n",
    "        else:\n",
    "            corr_options = get_corr_options_or_ans(curr_q_id, prob)\n",
    "            count = 0\n",
    "            o_xps = []\n",
    "            for corr_option in corr_options:\n",
    "                o_xp_f = f'//*[@id=\"question_section\"]/div[2]/div[2]/div[{corr_option}]/div/label'\n",
    "                o_xps.append(o_xp_f)\n",
    "\n",
    "            do_question(o_xps, save_and_next_xp_f, wait, curr_q_id)\n",
    "            \n",
    "    except StaleElementReferenceException:\n",
    "        if q_type == 'NUMERICAL':\n",
    "            input(f'Do the question with id: {curr_q_id} and ans as: {ans}')\n",
    "        else:\n",
    "            input(f'Do the question with id: {curr_q_id} and correct option as as: {corr_options}')\n",
    "        \n",
    "    count += 1\n",
    "\n",
    "    # Do other questions\n",
    "    sub_test_elm = driver.find_element(By.XPATH, sub_test_xp)\n",
    "    test_end_condition = sub_test_elm.get_attribute('innerText')\n",
    "\n",
    "    while test_end_condition != 'SUBMIT TEST':\n",
    "        \n",
    "        curr_q_id = get_curr_q_id()\n",
    "        q_type_elm = driver.find_element(By.XPATH, q_type_xp)\n",
    "        q_type = q_type_elm.get_attribute('innerText')\n",
    "        try:\n",
    "            if q_type == 'NUMERICAL' or int(q_data[q_data['question_id']==curr_q_id]['template_type'].values[0])==11:\n",
    "                ans = get_corr_options_or_ans(curr_q_id, prob)\n",
    "                do_question_num(ans, save_and_next_xp_o, wait, curr_q_id)\n",
    "            else:\n",
    "                o_xps = []\n",
    "                # try:\n",
    "                corr_options = get_corr_options_or_ans(curr_q_id, prob)\n",
    "                for corr_option in corr_options:\n",
    "                    o_xp_o = f'//*[@id=\"question_section\"]/div/div[2]/div[2]/div[{corr_option}]/div/label'\n",
    "                    o_xps.append(o_xp_o)\n",
    "                time.sleep(1)\n",
    "                do_question(o_xps, save_and_next_xp_o, wait, curr_q_id)\n",
    "        except StaleElementReferenceException:\n",
    "            if q_type == 'NUMERICAL':\n",
    "                input(f'Do the question with id: {curr_q_id} and ans as: {ans}')\n",
    "            else:\n",
    "                input(f'Do the question with id: {curr_q_id} and correct option as as: {corr_options}')\n",
    "        count += 1\n",
    "        test_end_condition = sub_test_elm.get_attribute('innerText')\n",
    "    time.sleep(1)\n",
    "    if False:\n",
    "        \n",
    "        end_exam_elm = driver.find_element(By.XPATH, end_exam_xp)\n",
    "        SUB_TEST_elm = driver.find_element(By.ID, 'bt-modal-confirm_over')\n",
    "        time.sleep(1)\n",
    "        driver.execute_script(\"arguments[0].click();\", SUB_TEST_elm)\n",
    "    else:\n",
    "        input('Please submit the exam.')\n",
    "    # driver.save_screenshot(os.path.join(os.getcwd(),'botTestOutput',f'{Subject[0]}_{Topic}.png'))\n",
    "    return \n"
   ]
  },
  {
   "cell_type": "code",
   "execution_count": 22,
   "id": "35c9406a-c14f-44fd-adb1-832c08342ad0",
   "metadata": {},
   "outputs": [],
   "source": [
    "\n",
    "def start_topic_test(topic_id):\n",
    "    \n",
    "    topic_select_elm = driver.find_element(By.ID, f\"chpt_topic_{topic_id}\")\n",
    "    time.sleep(0.5)\n",
    "    driver.execute_script(\"arguments[0].click();\", topic_select_elm)\n",
    "    take_test_for_sel_topic_elm = driver.find_element(By.XPATH, '//*[@id=\"topic_custom_footer\"]/button')\n",
    "    time.sleep(0.5)\n",
    "    driver.execute_script(\"arguments[0].click();\", take_test_for_sel_topic_elm)\n",
    "    time.sleep(1)\n",
    "    go_for_it_elm = driver.find_element(By.XPATH, '//*[@id=\"goto-exam-btn\"]')\n",
    "    time.sleep(0.5)\n",
    "    driver.execute_script(\"arguments[0].click();\", go_for_it_elm)\n",
    "\n",
    "    test_instruction_elm = driver.find_element(By.ID, 'test_instruction')\n",
    "    driver.execute_script(\"arguments[0].click();\", go_for_it_elm)\n",
    "    time.sleep(0.5)\n",
    "    while test_instruction_elm.is_displayed():\n",
    "        driver.execute_script(\"arguments[0].click();\", go_for_it_elm)\n",
    "        test_instruction_elm = driver.find_element(By.ID, 'test_instruction')\n",
    "        print('At instruction page')\n",
    "        time.sleep(0.5)\n",
    "    return\n"
   ]
  },
  {
   "cell_type": "code",
   "execution_count": 79,
   "id": "41c6413f-a332-4162-b129-d769960d323b",
   "metadata": {},
   "outputs": [],
   "source": [
    "\n",
    "def expand_chapter(chp_id):\n",
    "    driver.get(custom_url)\n",
    "    time.sleep(1)\n",
    "    chp_expand_elm = driver.find_element(By.ID, f\"expand_topic_{chp_id}\")\n",
    "    time.sleep(0.5)\n",
    "    driver.execute_script(\"arguments[0].click();\", chp_expand_elm)\n",
    "    time.sleep(0.5)\n",
    "    return \n"
   ]
  },
  {
   "cell_type": "code",
   "execution_count": 24,
   "id": "dfef7814-b7a0-4533-878f-7df4653d4f72",
   "metadata": {},
   "outputs": [],
   "source": [
    "# For math chapter ids\n",
    "\n",
    "driver.get(custom_url)\n",
    "\n",
    "math_list_innerHTML = driver.find_element(By.ID,'Mathematics_list').get_attribute('innerHTML')\n",
    "math_chp_ids = re.findall(r'id=\"chapter_box_(\\d+)\"', math_list_innerHTML)\n",
    "math_chp_ids = [int(i) for i in math_chp_ids]\n"
   ]
  },
  {
   "cell_type": "code",
   "execution_count": null,
   "id": "b5f4fc02-cce7-4938-9ece-0a714b77165e",
   "metadata": {},
   "outputs": [],
   "source": [
    "# For chemistry chapter ids\n",
    "\n",
    "driver.get(custom_url)\n",
    "\n",
    "chem_list_innerHTML = driver.find_element(By.ID,'Chemistry_list').get_attribute('innerHTML')\n",
    "chem_chp_ids = re.findall(r'id=\"chapter_box_(\\d+)\"', chem_list_innerHTML)\n",
    "chem_chp_ids = [int(i) for i in chem_chp_ids]\n"
   ]
  },
  {
   "cell_type": "code",
   "execution_count": null,
   "id": "ff919b85-077b-4394-a1e6-8d6e1710c57d",
   "metadata": {},
   "outputs": [],
   "source": [
    "# For Physics\n",
    "\n",
    "driver.get(custom_url)\n",
    "\n",
    "phy_list_innerHTML = driver.find_element(By.ID,'Physics_list').get_attribute('innerHTML')\n",
    "phy_chp_ids = re.findall(r'id=\"chapter_box_(\\d+)\"', phy_list_innerHTML)\n",
    "phy_chp_ids = [int(i) for i in phy_chp_ids]\n"
   ]
  },
  {
   "cell_type": "code",
   "execution_count": 115,
   "id": "95fdf608-1a72-4f96-8edd-b9246f2f282a",
   "metadata": {},
   "outputs": [
    {
     "ename": "NoSuchWindowException",
     "evalue": "Message: no such window: window was already closed\n  (Session info: chrome=101.0.4951.64)\nStacktrace:\nBacktrace:\n\tOrdinal0 [0x0039B8F3+2406643]\n\tOrdinal0 [0x0032AF31+1945393]\n\tOrdinal0 [0x0021C748+837448]\n\tOrdinal0 [0x0021144A+791626]\n\tOrdinal0 [0x002124B2+795826]\n\tOrdinal0 [0x0020BF09+769801]\n\tOrdinal0 [0x0021DAC0+842432]\n\tOrdinal0 [0x00273E62+1195618]\n\tOrdinal0 [0x00264096+1130646]\n\tOrdinal0 [0x0023E636+976438]\n\tOrdinal0 [0x0023F546+980294]\n\tGetHandleVerifier [0x00609612+2498066]\n\tGetHandleVerifier [0x005FC920+2445600]\n\tGetHandleVerifier [0x00434F2A+579370]\n\tGetHandleVerifier [0x00433D36+574774]\n\tOrdinal0 [0x00331C0B+1973259]\n\tOrdinal0 [0x00336688+1992328]\n\tOrdinal0 [0x00336775+1992565]\n\tOrdinal0 [0x0033F8D1+2029777]\n\tBaseThreadInitThunk [0x77703744+36]\n\tRtlSetCurrentTransaction [0x77DC9E54+212]\n\tRtlSetCurrentTransaction [0x77DC9E1F+159]\n",
     "output_type": "error",
     "traceback": [
      "\u001b[1;31m---------------------------------------------------------------------------\u001b[0m",
      "\u001b[1;31mNoSuchWindowException\u001b[0m                     Traceback (most recent call last)",
      "\u001b[1;32m~\\AppData\\Local\\Temp/ipykernel_10764/314992176.py\u001b[0m in \u001b[0;36m<module>\u001b[1;34m\u001b[0m\n\u001b[0;32m      4\u001b[0m \u001b[1;32mfor\u001b[0m \u001b[0mchp_id\u001b[0m \u001b[1;32min\u001b[0m \u001b[0mmath_chp_ids\u001b[0m\u001b[1;33m[\u001b[0m\u001b[1;36m12\u001b[0m\u001b[1;33m:\u001b[0m\u001b[1;36m13\u001b[0m\u001b[1;33m]\u001b[0m\u001b[1;33m:\u001b[0m\u001b[1;33m\u001b[0m\u001b[1;33m\u001b[0m\u001b[0m\n\u001b[0;32m      5\u001b[0m     \u001b[0mtime\u001b[0m\u001b[1;33m.\u001b[0m\u001b[0msleep\u001b[0m\u001b[1;33m(\u001b[0m\u001b[1;36m0.5\u001b[0m\u001b[1;33m)\u001b[0m\u001b[1;33m\u001b[0m\u001b[1;33m\u001b[0m\u001b[0m\n\u001b[1;32m----> 6\u001b[1;33m     \u001b[0mexpand_chapter\u001b[0m\u001b[1;33m(\u001b[0m\u001b[0mchp_id\u001b[0m\u001b[1;33m)\u001b[0m\u001b[1;33m\u001b[0m\u001b[1;33m\u001b[0m\u001b[0m\n\u001b[0m\u001b[0;32m      7\u001b[0m     \u001b[0mtopic_ids\u001b[0m \u001b[1;33m=\u001b[0m \u001b[0mget_topic_ids\u001b[0m\u001b[1;33m(\u001b[0m\u001b[0mchp_id\u001b[0m\u001b[1;33m)\u001b[0m\u001b[1;33m\u001b[0m\u001b[1;33m\u001b[0m\u001b[0m\n\u001b[0;32m      8\u001b[0m     \u001b[0mtopic_no\u001b[0m \u001b[1;33m=\u001b[0m \u001b[1;36m0\u001b[0m\u001b[1;33m\u001b[0m\u001b[1;33m\u001b[0m\u001b[0m\n",
      "\u001b[1;32m~\\AppData\\Local\\Temp/ipykernel_10764/1898934407.py\u001b[0m in \u001b[0;36mexpand_chapter\u001b[1;34m(chp_id)\u001b[0m\n\u001b[0;32m      1\u001b[0m \u001b[1;32mdef\u001b[0m \u001b[0mexpand_chapter\u001b[0m\u001b[1;33m(\u001b[0m\u001b[0mchp_id\u001b[0m\u001b[1;33m)\u001b[0m\u001b[1;33m:\u001b[0m\u001b[1;33m\u001b[0m\u001b[1;33m\u001b[0m\u001b[0m\n\u001b[1;32m----> 2\u001b[1;33m     \u001b[0mdriver\u001b[0m\u001b[1;33m.\u001b[0m\u001b[0mget\u001b[0m\u001b[1;33m(\u001b[0m\u001b[0mcustom_url\u001b[0m\u001b[1;33m)\u001b[0m\u001b[1;33m\u001b[0m\u001b[1;33m\u001b[0m\u001b[0m\n\u001b[0m\u001b[0;32m      3\u001b[0m     \u001b[0mtime\u001b[0m\u001b[1;33m.\u001b[0m\u001b[0msleep\u001b[0m\u001b[1;33m(\u001b[0m\u001b[1;36m1\u001b[0m\u001b[1;33m)\u001b[0m\u001b[1;33m\u001b[0m\u001b[1;33m\u001b[0m\u001b[0m\n\u001b[0;32m      4\u001b[0m     \u001b[0mchp_expand_elm\u001b[0m \u001b[1;33m=\u001b[0m \u001b[0mdriver\u001b[0m\u001b[1;33m.\u001b[0m\u001b[0mfind_element\u001b[0m\u001b[1;33m(\u001b[0m\u001b[0mBy\u001b[0m\u001b[1;33m.\u001b[0m\u001b[0mID\u001b[0m\u001b[1;33m,\u001b[0m \u001b[1;34mf\"expand_topic_{chp_id}\"\u001b[0m\u001b[1;33m)\u001b[0m\u001b[1;33m\u001b[0m\u001b[1;33m\u001b[0m\u001b[0m\n\u001b[0;32m      5\u001b[0m     \u001b[0mtime\u001b[0m\u001b[1;33m.\u001b[0m\u001b[0msleep\u001b[0m\u001b[1;33m(\u001b[0m\u001b[1;36m0.5\u001b[0m\u001b[1;33m)\u001b[0m\u001b[1;33m\u001b[0m\u001b[1;33m\u001b[0m\u001b[0m\n",
      "\u001b[1;32m~\\Anaconda3\\lib\\site-packages\\selenium\\webdriver\\remote\\webdriver.py\u001b[0m in \u001b[0;36mget\u001b[1;34m(self, url)\u001b[0m\n\u001b[0;32m    434\u001b[0m         \u001b[0mLoads\u001b[0m \u001b[0ma\u001b[0m \u001b[0mweb\u001b[0m \u001b[0mpage\u001b[0m \u001b[1;32min\u001b[0m \u001b[0mthe\u001b[0m \u001b[0mcurrent\u001b[0m \u001b[0mbrowser\u001b[0m \u001b[0msession\u001b[0m\u001b[1;33m.\u001b[0m\u001b[1;33m\u001b[0m\u001b[1;33m\u001b[0m\u001b[0m\n\u001b[0;32m    435\u001b[0m         \"\"\"\n\u001b[1;32m--> 436\u001b[1;33m         \u001b[0mself\u001b[0m\u001b[1;33m.\u001b[0m\u001b[0mexecute\u001b[0m\u001b[1;33m(\u001b[0m\u001b[0mCommand\u001b[0m\u001b[1;33m.\u001b[0m\u001b[0mGET\u001b[0m\u001b[1;33m,\u001b[0m \u001b[1;33m{\u001b[0m\u001b[1;34m'url'\u001b[0m\u001b[1;33m:\u001b[0m \u001b[0murl\u001b[0m\u001b[1;33m}\u001b[0m\u001b[1;33m)\u001b[0m\u001b[1;33m\u001b[0m\u001b[1;33m\u001b[0m\u001b[0m\n\u001b[0m\u001b[0;32m    437\u001b[0m \u001b[1;33m\u001b[0m\u001b[0m\n\u001b[0;32m    438\u001b[0m     \u001b[1;33m@\u001b[0m\u001b[0mproperty\u001b[0m\u001b[1;33m\u001b[0m\u001b[1;33m\u001b[0m\u001b[0m\n",
      "\u001b[1;32m~\\Anaconda3\\lib\\site-packages\\selenium\\webdriver\\remote\\webdriver.py\u001b[0m in \u001b[0;36mexecute\u001b[1;34m(self, driver_command, params)\u001b[0m\n\u001b[0;32m    422\u001b[0m         \u001b[0mresponse\u001b[0m \u001b[1;33m=\u001b[0m \u001b[0mself\u001b[0m\u001b[1;33m.\u001b[0m\u001b[0mcommand_executor\u001b[0m\u001b[1;33m.\u001b[0m\u001b[0mexecute\u001b[0m\u001b[1;33m(\u001b[0m\u001b[0mdriver_command\u001b[0m\u001b[1;33m,\u001b[0m \u001b[0mparams\u001b[0m\u001b[1;33m)\u001b[0m\u001b[1;33m\u001b[0m\u001b[1;33m\u001b[0m\u001b[0m\n\u001b[0;32m    423\u001b[0m         \u001b[1;32mif\u001b[0m \u001b[0mresponse\u001b[0m\u001b[1;33m:\u001b[0m\u001b[1;33m\u001b[0m\u001b[1;33m\u001b[0m\u001b[0m\n\u001b[1;32m--> 424\u001b[1;33m             \u001b[0mself\u001b[0m\u001b[1;33m.\u001b[0m\u001b[0merror_handler\u001b[0m\u001b[1;33m.\u001b[0m\u001b[0mcheck_response\u001b[0m\u001b[1;33m(\u001b[0m\u001b[0mresponse\u001b[0m\u001b[1;33m)\u001b[0m\u001b[1;33m\u001b[0m\u001b[1;33m\u001b[0m\u001b[0m\n\u001b[0m\u001b[0;32m    425\u001b[0m             response['value'] = self._unwrap_value(\n\u001b[0;32m    426\u001b[0m                 response.get('value', None))\n",
      "\u001b[1;32m~\\Anaconda3\\lib\\site-packages\\selenium\\webdriver\\remote\\errorhandler.py\u001b[0m in \u001b[0;36mcheck_response\u001b[1;34m(self, response)\u001b[0m\n\u001b[0;32m    245\u001b[0m                 \u001b[0malert_text\u001b[0m \u001b[1;33m=\u001b[0m \u001b[0mvalue\u001b[0m\u001b[1;33m[\u001b[0m\u001b[1;34m'alert'\u001b[0m\u001b[1;33m]\u001b[0m\u001b[1;33m.\u001b[0m\u001b[0mget\u001b[0m\u001b[1;33m(\u001b[0m\u001b[1;34m'text'\u001b[0m\u001b[1;33m)\u001b[0m\u001b[1;33m\u001b[0m\u001b[1;33m\u001b[0m\u001b[0m\n\u001b[0;32m    246\u001b[0m             \u001b[1;32mraise\u001b[0m \u001b[0mexception_class\u001b[0m\u001b[1;33m(\u001b[0m\u001b[0mmessage\u001b[0m\u001b[1;33m,\u001b[0m \u001b[0mscreen\u001b[0m\u001b[1;33m,\u001b[0m \u001b[0mstacktrace\u001b[0m\u001b[1;33m,\u001b[0m \u001b[0malert_text\u001b[0m\u001b[1;33m)\u001b[0m  \u001b[1;31m# type: ignore[call-arg]  # mypy is not smart enough here\u001b[0m\u001b[1;33m\u001b[0m\u001b[1;33m\u001b[0m\u001b[0m\n\u001b[1;32m--> 247\u001b[1;33m         \u001b[1;32mraise\u001b[0m \u001b[0mexception_class\u001b[0m\u001b[1;33m(\u001b[0m\u001b[0mmessage\u001b[0m\u001b[1;33m,\u001b[0m \u001b[0mscreen\u001b[0m\u001b[1;33m,\u001b[0m \u001b[0mstacktrace\u001b[0m\u001b[1;33m)\u001b[0m\u001b[1;33m\u001b[0m\u001b[1;33m\u001b[0m\u001b[0m\n\u001b[0m\u001b[0;32m    248\u001b[0m \u001b[1;33m\u001b[0m\u001b[0m\n\u001b[0;32m    249\u001b[0m     \u001b[1;32mdef\u001b[0m \u001b[0m_value_or_default\u001b[0m\u001b[1;33m(\u001b[0m\u001b[0mself\u001b[0m\u001b[1;33m,\u001b[0m \u001b[0mobj\u001b[0m\u001b[1;33m:\u001b[0m \u001b[0mMapping\u001b[0m\u001b[1;33m[\u001b[0m\u001b[0m_KT\u001b[0m\u001b[1;33m,\u001b[0m \u001b[0m_VT\u001b[0m\u001b[1;33m]\u001b[0m\u001b[1;33m,\u001b[0m \u001b[0mkey\u001b[0m\u001b[1;33m:\u001b[0m \u001b[0m_KT\u001b[0m\u001b[1;33m,\u001b[0m \u001b[0mdefault\u001b[0m\u001b[1;33m:\u001b[0m \u001b[0m_VT\u001b[0m\u001b[1;33m)\u001b[0m \u001b[1;33m->\u001b[0m \u001b[0m_VT\u001b[0m\u001b[1;33m:\u001b[0m\u001b[1;33m\u001b[0m\u001b[1;33m\u001b[0m\u001b[0m\n",
      "\u001b[1;31mNoSuchWindowException\u001b[0m: Message: no such window: window was already closed\n  (Session info: chrome=101.0.4951.64)\nStacktrace:\nBacktrace:\n\tOrdinal0 [0x0039B8F3+2406643]\n\tOrdinal0 [0x0032AF31+1945393]\n\tOrdinal0 [0x0021C748+837448]\n\tOrdinal0 [0x0021144A+791626]\n\tOrdinal0 [0x002124B2+795826]\n\tOrdinal0 [0x0020BF09+769801]\n\tOrdinal0 [0x0021DAC0+842432]\n\tOrdinal0 [0x00273E62+1195618]\n\tOrdinal0 [0x00264096+1130646]\n\tOrdinal0 [0x0023E636+976438]\n\tOrdinal0 [0x0023F546+980294]\n\tGetHandleVerifier [0x00609612+2498066]\n\tGetHandleVerifier [0x005FC920+2445600]\n\tGetHandleVerifier [0x00434F2A+579370]\n\tGetHandleVerifier [0x00433D36+574774]\n\tOrdinal0 [0x00331C0B+1973259]\n\tOrdinal0 [0x00336688+1992328]\n\tOrdinal0 [0x00336775+1992565]\n\tOrdinal0 [0x0033F8D1+2029777]\n\tBaseThreadInitThunk [0x77703744+36]\n\tRtlSetCurrentTransaction [0x77DC9E54+212]\n\tRtlSetCurrentTransaction [0x77DC9E1F+159]\n"
     ]
    }
   ],
   "source": [
    "\n",
    "# Adaptive test starts\n",
    "\n",
    "chp_no = 0\n",
    "for chp_id in math_chp_ids[12:13]:\n",
    "    time.sleep(0.5)\n",
    "    expand_chapter(chp_id)\n",
    "    topic_ids = get_topic_ids(chp_id)\n",
    "    topic_no = 0\n",
    "    for topic_id in topic_ids:\n",
    "        \n",
    "        start_topic_test(topic_id)\n",
    "        do_topic_test()        \n",
    "        expand_chapter(chp_id)\n",
    "        topic_no+=1\n",
    "        print(f'Topics completed: {topic_no}')\n",
    "    \n",
    "    chp_no+=1\n",
    "    print(f'Chapters completed: {chp_no}')\n",
    "    "
   ]
  },
  {
   "cell_type": "code",
   "execution_count": null,
   "id": "9bda2bcd-56fe-40e9-aed5-9b2a74f90c60",
   "metadata": {},
   "outputs": [],
   "source": [
    "chp_id = math_chp_ids[12]\n",
    "topic_ids = get_topic_ids(chp_id)\n",
    "topic_ids"
   ]
  },
  {
   "cell_type": "code",
   "execution_count": 93,
   "id": "63fc7630-a212-4f42-8c8d-5506a34cad9a",
   "metadata": {},
   "outputs": [],
   "source": [
    "o1_xp = '//*[@id=\"question_section\"]/div/div[2]/div[2]/div[1]'\n",
    "o1_elm = driver.find_element(By.XPATH, o1_xp)\n"
   ]
  },
  {
   "cell_type": "code",
   "execution_count": 106,
   "id": "67de3d52-09de-4cf4-8c2f-65e8838777b6",
   "metadata": {},
   "outputs": [],
   "source": []
  },
  {
   "cell_type": "code",
   "execution_count": 107,
   "id": "4551dd93-a54e-4ba1-ad2b-dbb76fcfdb2f",
   "metadata": {},
   "outputs": [],
   "source": []
  },
  {
   "cell_type": "code",
   "execution_count": null,
   "id": "8bedae3d-2ead-4c19-b74b-091063be5618",
   "metadata": {},
   "outputs": [],
   "source": []
  },
  {
   "cell_type": "code",
   "execution_count": 105,
   "id": "2ac1d6d3-24c6-4334-9dfb-ca4fc3758c53",
   "metadata": {},
   "outputs": [
    {
     "data": {
      "text/plain": [
       "'none'"
      ]
     },
     "execution_count": 105,
     "metadata": {},
     "output_type": "execute_result"
    }
   ],
   "source": [
    "qoption_err_xp = '//*[@id=\"qoption_err_177874\"]'\n",
    "qoption_err_elm = driver.find_element(By.XPATH, qoption_err_xp)\n",
    "qoption_err_elm.value_of_css_property('display')\n",
    "# get_attribute('bs-blue')\n",
    "# get_property('display')\n"
   ]
  },
  {
   "cell_type": "code",
   "execution_count": null,
   "id": "5490062d-fe45-4ae3-b459-c8e14db6ccb9",
   "metadata": {
    "tags": []
   },
   "outputs": [],
   "source": [
    "type(logs_text)"
   ]
  },
  {
   "cell_type": "code",
   "execution_count": 51,
   "id": "bfd0d00d-d65d-41fe-885a-1eb38e789988",
   "metadata": {
    "tags": []
   },
   "outputs": [
    {
     "data": {
      "text/plain": [
       "69508"
      ]
     },
     "execution_count": 51,
     "metadata": {},
     "output_type": "execute_result"
    }
   ],
   "source": [
    "len(logs)"
   ]
  },
  {
   "cell_type": "code",
   "execution_count": null,
   "id": "e5c5df78-2139-4daf-8eb9-2e31bf9cf57d",
   "metadata": {
    "scrolled": true,
    "tags": []
   },
   "outputs": [],
   "source": [
    "logs = driver.get_log(\"performance\")\n",
    "logs"
   ]
  },
  {
   "cell_type": "code",
   "execution_count": null,
   "id": "d853eb87-5178-43c6-aacf-ab7426678ded",
   "metadata": {},
   "outputs": [],
   "source": []
  },
  {
   "cell_type": "code",
   "execution_count": null,
   "id": "73035c3b-a20d-4111-8e83-37d0f57da0b5",
   "metadata": {},
   "outputs": [],
   "source": []
  },
  {
   "cell_type": "code",
   "execution_count": null,
   "id": "dfd205b4-9da7-4150-a2e3-25177f00fa1c",
   "metadata": {},
   "outputs": [],
   "source": []
  },
  {
   "cell_type": "code",
   "execution_count": null,
   "id": "a9cd38bd-9ef4-47c9-b80a-0339b54c52b9",
   "metadata": {},
   "outputs": [],
   "source": []
  },
  {
   "cell_type": "code",
   "execution_count": 7,
   "id": "b1cac3dc-c9aa-4eb5-adfa-cd6e8991b7a0",
   "metadata": {},
   "outputs": [],
   "source": []
  },
  {
   "cell_type": "code",
   "execution_count": null,
   "id": "bfb5c479-510b-495b-8617-dd61b80e3237",
   "metadata": {},
   "outputs": [],
   "source": []
  },
  {
   "cell_type": "code",
   "execution_count": null,
   "id": "2a22ce3c-2516-4456-a714-52137bbbf954",
   "metadata": {},
   "outputs": [],
   "source": []
  },
  {
   "cell_type": "code",
   "execution_count": null,
   "id": "7950e5eb-ef0b-47a8-94f2-9f29d0df844d",
   "metadata": {},
   "outputs": [],
   "source": []
  },
  {
   "cell_type": "code",
   "execution_count": null,
   "id": "85e9695f-62db-4a04-a26f-25c12bd8f882",
   "metadata": {},
   "outputs": [],
   "source": []
  },
  {
   "cell_type": "code",
   "execution_count": null,
   "id": "233ceaf6-d278-4718-9c28-8d31251f271c",
   "metadata": {},
   "outputs": [],
   "source": []
  },
  {
   "cell_type": "code",
   "execution_count": null,
   "id": "f695bcca-1980-4cb9-8147-c3eaf9f0b611",
   "metadata": {},
   "outputs": [],
   "source": []
  },
  {
   "cell_type": "code",
   "execution_count": null,
   "id": "ab2206ee-638b-4a2e-ab9b-3708ece87882",
   "metadata": {},
   "outputs": [],
   "source": []
  },
  {
   "cell_type": "code",
   "execution_count": null,
   "id": "f71ad240-3aaf-43c7-bd93-c7cf387c0b85",
   "metadata": {},
   "outputs": [],
   "source": []
  },
  {
   "cell_type": "code",
   "execution_count": null,
   "id": "51907d34-399e-41f4-8592-4eda104986b9",
   "metadata": {},
   "outputs": [],
   "source": []
  },
  {
   "cell_type": "code",
   "execution_count": null,
   "id": "5c31d5a3-8b6a-40c6-8c9d-dbfe31a61732",
   "metadata": {},
   "outputs": [],
   "source": []
  },
  {
   "cell_type": "code",
   "execution_count": null,
   "id": "bb1ffa7c-2f8c-446a-b4a8-b478c54db62c",
   "metadata": {},
   "outputs": [],
   "source": []
  },
  {
   "cell_type": "code",
   "execution_count": null,
   "id": "e90a4e81-1939-4c18-b804-948b3b6c759e",
   "metadata": {
    "tags": []
   },
   "outputs": [],
   "source": []
  },
  {
   "cell_type": "code",
   "execution_count": null,
   "id": "cd50e2ed-1a07-4db9-aa56-eb9e49f4a93f",
   "metadata": {},
   "outputs": [],
   "source": []
  },
  {
   "cell_type": "code",
   "execution_count": null,
   "id": "5d35854d-6263-4d09-b77a-caa816e4260c",
   "metadata": {},
   "outputs": [],
   "source": []
  },
  {
   "cell_type": "code",
   "execution_count": null,
   "id": "fbb5dccb-0b38-4ade-a42a-cc48383348b5",
   "metadata": {},
   "outputs": [],
   "source": []
  },
  {
   "cell_type": "code",
   "execution_count": null,
   "id": "24388aea-a893-4945-8fe0-0712916e2d2c",
   "metadata": {},
   "outputs": [],
   "source": []
  },
  {
   "cell_type": "code",
   "execution_count": null,
   "id": "179483e8-8804-4fa5-bab4-7016bf654130",
   "metadata": {},
   "outputs": [],
   "source": []
  },
  {
   "cell_type": "code",
   "execution_count": null,
   "id": "5be8dc72-8f5a-4ddc-b21f-7b69414c9781",
   "metadata": {},
   "outputs": [],
   "source": []
  },
  {
   "cell_type": "code",
   "execution_count": null,
   "id": "e22a9214-f41a-440c-926e-6e11e2328f2d",
   "metadata": {},
   "outputs": [],
   "source": []
  },
  {
   "cell_type": "code",
   "execution_count": null,
   "id": "f96754c9-fc79-4ff1-9f8c-55ec704084f6",
   "metadata": {},
   "outputs": [],
   "source": []
  },
  {
   "cell_type": "code",
   "execution_count": null,
   "id": "8e508fa2-aac6-415a-8bb6-989d39340f35",
   "metadata": {},
   "outputs": [],
   "source": []
  },
  {
   "cell_type": "code",
   "execution_count": null,
   "id": "2ab92e14-b9c1-4104-9088-62d62d167f5f",
   "metadata": {},
   "outputs": [],
   "source": []
  },
  {
   "cell_type": "code",
   "execution_count": null,
   "id": "618adedd-a4f4-4ce4-a43b-9f9ddeda098b",
   "metadata": {},
   "outputs": [],
   "source": []
  },
  {
   "cell_type": "code",
   "execution_count": null,
   "id": "20e0ef12-8029-4c69-94cc-ea70e14aaca8",
   "metadata": {},
   "outputs": [],
   "source": []
  },
  {
   "cell_type": "code",
   "execution_count": null,
   "id": "27411b16-a808-4756-a6a2-b553bfda09b5",
   "metadata": {},
   "outputs": [],
   "source": []
  },
  {
   "cell_type": "code",
   "execution_count": null,
   "id": "a9cc378e-1f4f-45bf-b12c-688f773fc81c",
   "metadata": {},
   "outputs": [],
   "source": []
  },
  {
   "cell_type": "code",
   "execution_count": null,
   "id": "01de1497-ad78-4d54-aa78-a6189cc1b09a",
   "metadata": {},
   "outputs": [],
   "source": []
  },
  {
   "cell_type": "code",
   "execution_count": null,
   "id": "9a5dfded-0584-4cf4-a471-2bea4d751f0e",
   "metadata": {},
   "outputs": [],
   "source": []
  },
  {
   "cell_type": "code",
   "execution_count": null,
   "id": "2e103f30-246a-4db9-ac32-0018f1e8c7bd",
   "metadata": {},
   "outputs": [],
   "source": []
  },
  {
   "cell_type": "code",
   "execution_count": null,
   "id": "2b385e70-2700-4959-930c-bc79ed44e46a",
   "metadata": {},
   "outputs": [],
   "source": []
  },
  {
   "cell_type": "code",
   "execution_count": null,
   "id": "c9e1ef7d-3e62-4987-9b15-6a236ee116f2",
   "metadata": {},
   "outputs": [],
   "source": []
  },
  {
   "cell_type": "code",
   "execution_count": null,
   "id": "bb8df7be-f247-4e5b-8561-fcd566efc535",
   "metadata": {},
   "outputs": [],
   "source": []
  },
  {
   "cell_type": "code",
   "execution_count": null,
   "id": "87d208f5-70ee-48bc-b8d4-5f82e34b852f",
   "metadata": {},
   "outputs": [],
   "source": []
  },
  {
   "cell_type": "code",
   "execution_count": null,
   "id": "1081fa83-6eb7-4801-bbc6-6fbfc3cc0137",
   "metadata": {},
   "outputs": [],
   "source": []
  },
  {
   "cell_type": "code",
   "execution_count": null,
   "id": "e3e4e0f4-b8e9-46cd-b08c-a13704dc83d4",
   "metadata": {},
   "outputs": [],
   "source": []
  },
  {
   "cell_type": "code",
   "execution_count": null,
   "id": "5d4ba421-1932-4633-bd33-f77c5ec35177",
   "metadata": {},
   "outputs": [],
   "source": []
  },
  {
   "cell_type": "code",
   "execution_count": null,
   "id": "649369e2-c5f6-4277-a692-24cb518947cf",
   "metadata": {},
   "outputs": [],
   "source": []
  }
 ],
 "metadata": {
  "kernelspec": {
   "display_name": "Python 3 (ipykernel)",
   "language": "python",
   "name": "python3"
  },
  "language_info": {
   "codemirror_mode": {
    "name": "ipython",
    "version": 3
   },
   "file_extension": ".py",
   "mimetype": "text/x-python",
   "name": "python",
   "nbconvert_exporter": "python",
   "pygments_lexer": "ipython3",
   "version": "3.9.7"
  }
 },
 "nbformat": 4,
 "nbformat_minor": 5
}
