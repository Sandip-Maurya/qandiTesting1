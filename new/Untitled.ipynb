{
 "cells": [
  {
   "cell_type": "code",
   "execution_count": null,
   "id": "87006b23-9708-4d3f-804f-5609c412d524",
   "metadata": {},
   "outputs": [],
   "source": [
    "from seleniumwire import webdriver  # Import from seleniumwire\n",
    "from seleniumwire.utils import decode\n"
   ]
  },
  {
   "cell_type": "code",
   "execution_count": 2,
   "id": "05ad9b22-fd70-41e8-9de9-d05511e96476",
   "metadata": {},
   "outputs": [],
   "source": []
  },
  {
   "cell_type": "code",
   "execution_count": null,
   "id": "e347d298-e369-456e-9746-63c2128ed59d",
   "metadata": {},
   "outputs": [],
   "source": [
    "driver = webdriver.Chrome(r'C:\\Users\\USER\\.wdm\\drivers\\chromedriver\\win32\\101.0.4951.41\\chromedriver.exe')\n",
    "\n",
    "# Go to the Google home page\n",
    "# driver.get('https://www.google.com')\n",
    "\n",
    "# Access requests via the `requests` attribute\n",
    "for request in driver.requests:\n",
    "    if request.response:\n",
    "        print(\n",
    "            request.url,\n",
    "            request.response.status_code,\n",
    "            request.response.headers['Content-Type']\n",
    "        )\n",
    "        "
   ]
  },
  {
   "cell_type": "code",
   "execution_count": 8,
   "id": "46fa632f-6349-49ae-808d-0fec1fd9dced",
   "metadata": {},
   "outputs": [],
   "source": [
    "# xpaths and other input data\n",
    "\n",
    "login_url = 'https://app.qandi.com/login'\n",
    "# email = 'uniqtd@gmail.com'\n",
    "email = 'skm4985@gmail.com'\n",
    "\n",
    "email_xp = '//*[@id=\"mobile_num\"]'\n",
    "next_btn_xp = '//*[@id=\"mobile-input-btn\"]'\n",
    "custom_exam_url = 'https://app.qandi.com/exam_custom'\n",
    "\n",
    "# For first question\n",
    "o1_xp_f = '//*[@id=\"question_section\"]/div[2]/div[2]/div[1]/div/label'\n",
    "o2_xp_f = '//*[@id=\"question_section\"]/div[2]/div[2]/div[2]/div/label'\n",
    "o3_xp_f = '//*[@id=\"question_section\"]/div[2]/div[2]/div[3]/div/label'\n",
    "o4_xp_f = '//*[@id=\"question_section\"]/div[2]/div[2]/div[4]/div/label'\n",
    "o_xps_f = [o1_xp_f, o2_xp_f, o3_xp_f, o4_xp_f]\n",
    "save_and_next_xp_f = '//*[@id=\"question_section\"]/div[3]/a[1]'\n",
    "\n",
    "# For other questions\n",
    "o1_xp_o = '//*[@id=\"question_section\"]/div/div[2]/div[2]/div[1]/div/label'\n",
    "o2_xp_o = '//*[@id=\"question_section\"]/div/div[2]/div[2]/div[2]/div/label'\n",
    "o3_xp_o = '//*[@id=\"question_section\"]/div/div[2]/div[2]/div[3]/div/label'\n",
    "o4_xp_o = '//*[@id=\"question_section\"]/div/div[2]/div[2]/div[4]/div/label'\n",
    "o_xps_o = [o1_xp_o, o2_xp_o, o3_xp_o, o4_xp_o]\n",
    "\n",
    "# other xpaths\n",
    "take_test_for_sel_topic_xp = '//*[@id=\"topic_custom_footer\"]/button'\n",
    "go_for_it_xp = '//*[@id=\"goto-exam-btn\"]'\n",
    "phy_xp = '//*[@id=\"Physics-tab\"]'\n",
    "chem_xp = '//*[@id=\"Chemistry-tab\"]'\n",
    "math_xp = '//*[@id=\"Mathematics-tab\"]'\n",
    "save_and_next_xp_o = '//*[@id=\"question_section\"]/div/div[3]/a[1]'\n",
    "\n",
    "sub_test_xp = '//*[@id=\"bt-modal-confirm_over\"]'\n"
   ]
  },
  {
   "cell_type": "code",
   "execution_count": 7,
   "id": "9d78b23f-cf3f-4c68-87c5-88eb2e31ebf0",
   "metadata": {},
   "outputs": [],
   "source": [
    "login_url = 'https://app.qandi.com/login'\n",
    "\n",
    "\n",
    "driver.get(login_url)\n"
   ]
  },
  {
   "cell_type": "code",
   "execution_count": 16,
   "id": "89f6cb1f-18d7-4a3d-95b6-53be017aa15c",
   "metadata": {},
   "outputs": [
    {
     "name": "stdout",
     "output_type": "stream",
     "text": [
      "https://app.qandi.com/saveAdaptiveAnswer b'{\"status\":200,\"message\":\"save response successfully\"}'\n"
     ]
    }
   ],
   "source": [
    "\n",
    "\n",
    "for request in driver.requests:\n",
    "    if request.response:\n",
    "        if request.url == 'https://app.qandi.com/saveAdaptiveAnswer':\n",
    "            \n",
    "            print(\n",
    "                request.url,\n",
    "                # decode(request.response.body)\n",
    "                decode(request.response.body, request.response.headers.get('Content-Encoding', 'identity'))\n",
    "            )"
   ]
  },
  {
   "cell_type": "code",
   "execution_count": 22,
   "id": "7ed3c294-9c1c-4e1c-86de-799963f63102",
   "metadata": {},
   "outputs": [
    {
     "name": "stdout",
     "output_type": "stream",
     "text": [
      "https://app.qandi.com/saveAdaptiveAnswer b'_token=gdKTssBKGbLsigk2Y9sZYIBzWRwWr5Xz6CU8bRTV&question_id=27813&option_id%5B%5D=1&q_submit_time=17' b'{\"status\":200,\"message\":\"save response successfully\"}'\n"
     ]
    }
   ],
   "source": [
    "for request in driver.requests:\n",
    "    if request.response:\n",
    "        if request.url == 'https://app.qandi.com/saveAdaptiveAnswer':\n",
    "            \n",
    "            print(\n",
    "                request.url,\n",
    "                request.body,\n",
    "                # decode(request.response.body)\n",
    "                decode(request.response.body, request.response.headers.get('Content-Encoding', 'identity'))\n",
    "            )"
   ]
  },
  {
   "cell_type": "code",
   "execution_count": 24,
   "id": "ccaee25f-1162-4b42-946d-99e79adf7e00",
   "metadata": {},
   "outputs": [
    {
     "name": "stdout",
     "output_type": "stream",
     "text": [
      "b'_token=gdKTssBKGbLsigk2Y9sZYIBzWRwWr5Xz6CU8bRTV&login_mobile=9910737626&login_otp=39835'\n",
      "https://app.qandi.com/saveAdaptiveAnswer b'_token=gdKTssBKGbLsigk2Y9sZYIBzWRwWr5Xz6CU8bRTV&question_id=27813&option_id%5B%5D=1&q_submit_time=17'\n"
     ]
    }
   ],
   "source": [
    "otp_url = 'https://app.qandi.com/verifyotplogin'\n",
    "\n",
    "for request in driver.requests:\n",
    "    if request.response:\n",
    "        if request.url == otp_url:\n",
    "            print(request.body)\n",
    "        if request.url == 'https://app.qandi.com/saveAdaptiveAnswer':\n",
    "            print(\n",
    "                request.url,\n",
    "                request.body,\n",
    "                # decode(request.response.body)\n",
    "                # decode(request.response.body, request.response.headers.get('Content-Encoding', 'identity'))\n",
    "            )\n",
    "        "
   ]
  },
  {
   "cell_type": "code",
   "execution_count": null,
   "id": "70d5c14e-6050-4289-8888-04d5524a42be",
   "metadata": {},
   "outputs": [],
   "source": []
  }
 ],
 "metadata": {
  "kernelspec": {
   "display_name": "Python 3 (ipykernel)",
   "language": "python",
   "name": "python3"
  },
  "language_info": {
   "codemirror_mode": {
    "name": "ipython",
    "version": 3
   },
   "file_extension": ".py",
   "mimetype": "text/x-python",
   "name": "python",
   "nbconvert_exporter": "python",
   "pygments_lexer": "ipython3",
   "version": "3.9.7"
  }
 },
 "nbformat": 4,
 "nbformat_minor": 5
}
