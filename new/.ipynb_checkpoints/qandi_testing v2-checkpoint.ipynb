{
 "cells": [
  {
   "cell_type": "code",
   "execution_count": 120,
   "id": "5c3caf6d-f42b-4b69-8c57-11696adf6bb1",
   "metadata": {},
   "outputs": [],
   "source": [
    "from selenium.webdriver.chrome.options import Options\n",
    "from selenium import webdriver\n",
    "from selenium.webdriver.chrome.service import Service\n",
    "from webdriver_manager.chrome import ChromeDriverManager\n",
    "from selenium.webdriver.common.by import By\n",
    "from datetime import datetime\n",
    "import pandas as pd\n",
    "import os, re, time, json, random\n"
   ]
  },
  {
   "cell_type": "code",
   "execution_count": null,
   "id": "d3218848-04cb-4be3-a5f4-36056d30652f",
   "metadata": {},
   "outputs": [],
   "source": [
    "# starts browser\n",
    "driver = webdriver.Chrome(service=Service(ChromeDriverManager().install()))\n",
    "driver.implicitly_wait(10)\n"
   ]
  },
  {
   "cell_type": "code",
   "execution_count": 244,
   "id": "ebff2f4b-8ba2-4087-bb20-62975b30f77d",
   "metadata": {},
   "outputs": [],
   "source": [
    "mobile = '9910737626'\n",
    "login_url = 'https://app.qandi.com/login'\n",
    "mobile_email_xp = '//*[@id=\"mobile_num\"]'\n",
    "next_btn_xp = '//*[@id=\"mobile-input-btn\"]'\n",
    "enter_otp_xp = '//*[@id=\"otp_num\"]'\n",
    "verify_xp = '//*[@id=\"otp-verify-btn\"]'\n",
    "custom_url = 'https://app.qandi.com/exam_custom'\n",
    "\n",
    "sub_xp = '//*[@id=\"Mathematics-tab\"]'\n",
    "save_and_next_xp_f = '//*[@id=\"question_section\"]/div[3]/a[1]'\n",
    "save_and_next_xp_o = '//*[@id=\"question_section\"]/div/div[3]/a[1]'\n",
    "\n",
    "wait = 3\n",
    "prob = 0.9 # for toppers\n",
    "q_data = pd.read_csv('live_ques_data_for_automation_testing.csv', sep = '|')\n"
   ]
  },
  {
   "cell_type": "code",
   "execution_count": 12,
   "id": "1b2e4836-9554-4fdb-89cc-5a683384a0a6",
   "metadata": {},
   "outputs": [
    {
     "name": "stdin",
     "output_type": "stream",
     "text": [
      "Please input otp 99684\n"
     ]
    }
   ],
   "source": [
    "# Login to qandi\n",
    "\n",
    "def login():\n",
    "    driver.get(login_url)\n",
    "\n",
    "    driver.find_element(By.ID, 'mobile_num').send_keys(mobile)\n",
    "    next_btn_elm = driver.find_element(By.ID, 'mobile-input-btn')\n",
    "\n",
    "    try:\n",
    "        next_btn_elm.click()\n",
    "        enter_otp_elm = driver.find_element(By.ID, 'otp_num')\n",
    "    except:\n",
    "        try:\n",
    "            driver.execute_script(\"arguments[0].click();\", next_btn_elm)\n",
    "            enter_otp_elm = driver.find_element(By.ID, 'otp_num')\n",
    "        except:\n",
    "            print('Not able to login')\n",
    "\n",
    "    otp = input('Please input otp and then press enter to continue:')\n",
    "    enter_otp_elm.send_keys(otp)\n",
    "    verify_elm = driver.find_element(By.ID, 'otp-verify-btn')\n",
    "\n",
    "    try:\n",
    "        verify_elm.click()\n",
    "    except:\n",
    "        driver.execute_script(\"arguments[0].click();\", verify_elm)\n",
    "    return\n",
    "    "
   ]
  },
  {
   "cell_type": "code",
   "execution_count": 17,
   "id": "d853eb87-5178-43c6-aacf-ab7426678ded",
   "metadata": {},
   "outputs": [
    {
     "data": {
      "text/plain": [
       "[324, 313, 316, 298, 308]"
      ]
     },
     "execution_count": 17,
     "metadata": {},
     "output_type": "execute_result"
    }
   ],
   "source": [
    "\n",
    "def get_chp_ids():\n",
    "    driver.get(custom_url)\n",
    "    driver.find_element(By.XPATH, sub_xp).click()\n",
    "    pg_src_chp_id = driver.page_source\n",
    "    time.sleep(1)\n",
    "    chp_ids = re.findall(r'expand_topic_(\\d+)', pg_src_chp_id)\n",
    "    chp_ids = [int(i) for i in chp_ids]\n",
    "    return chp_ids\n",
    "\n",
    "chp_ids = get_chp_ids()\n",
    "chp_ids[:5]"
   ]
  },
  {
   "cell_type": "code",
   "execution_count": 27,
   "id": "6cdea4eb-a392-401d-9814-62291825bcdb",
   "metadata": {},
   "outputs": [
    {
     "data": {
      "text/plain": [
       "[3772, 3769, 3771, 3770]"
      ]
     },
     "execution_count": 27,
     "metadata": {},
     "output_type": "execute_result"
    }
   ],
   "source": [
    "\n",
    "def get_topic_ids(chp_id):\n",
    "    q_data_df = pd.read_csv('q_data.csv')\n",
    "    topic_ids = q_data_df[q_data_df['chap_id']==chp_id].top_id.unique()\n",
    "    topic_ids = list(topic_ids)\n",
    "    return topic_ids\n",
    "\n",
    "chp_id = 313\n",
    "topic_ids = get_topic_ids(chp_id)\n",
    "topic_ids[:6]\n"
   ]
  },
  {
   "cell_type": "code",
   "execution_count": null,
   "id": "b1cac3dc-c9aa-4eb5-adfa-cd6e8991b7a0",
   "metadata": {},
   "outputs": [],
   "source": [
    "\n",
    "def get_subject(chp_id):\n",
    "    topic_id = get_topic_ids(chp_id)[0]\n",
    "    topic_df = pd.read_csv('Topic_ID.csv')\n",
    "    Subject = topic_df[topic_df['Topic ID']==topic_id]['Subject'].unique()[0]\n",
    "    return Subject\n",
    "\n",
    "chp_id = 318\n",
    "get_subject(chp_id)"
   ]
  },
  {
   "cell_type": "code",
   "execution_count": 44,
   "id": "bfb5c479-510b-495b-8617-dd61b80e3237",
   "metadata": {},
   "outputs": [],
   "source": [
    "# driver.get(custom_url)\n",
    "\n",
    "def select_sub_tab_and_expand_chp(chp_id):\n",
    "    # select subject tab\n",
    "    subject = get_subject(chp_id)\n",
    "    subject_tab_xp = f'//*[@id=\"{subject}_btn\"]'\n",
    "    subject_tab_elm = driver.find_element(By.XPATH, subject_tab_xp)\n",
    "    driver.execute_script(\"arguments[0].click();\", subject_tab_elm)\n",
    "    \n",
    "    # expand topic\n",
    "    chp_xp = f'//*[@id=\"expand_topic_{chp_id}\"]'\n",
    "    chp_elm = driver.find_element(By.XPATH, chp_xp)\n",
    "    driver.execute_script(\"arguments[0].click();\", chp_elm)\n",
    "    \n",
    "    # retry if not chapter is not expanded\n",
    "    topic_id = get_topic_ids(chp_id)[0]\n",
    "    check_elm_xp = f'//*[@id=\"topic_box_{topic_id}\"]/div[3]'\n",
    "    check_elm = driver.find_element(By.XPATH, check_elm_xp)\n",
    "    if check_elm.get_attribute('innerText') != 'K\\nC\\nA\\nE\\nSELECT':\n",
    "        driver.execute_script(\"arguments[0].click();\", chp_elm)\n",
    "    return\n",
    "\n",
    "\n",
    "chp_id = 225\n",
    "select_sub_tab_and_expand_chp(chp_id)\n"
   ]
  },
  {
   "cell_type": "code",
   "execution_count": 55,
   "id": "2a22ce3c-2516-4456-a714-52137bbbf954",
   "metadata": {},
   "outputs": [],
   "source": [
    "\n",
    "def start_test(topic_id):\n",
    "     # Select topic and start the test\n",
    "    topic_xp = f'//*[@id=\"chpt_topic_{topic_id}\"]'\n",
    "    \n",
    "    try:\n",
    "        topic_elm = driver.find_element(By.XPATH, topic_xp)\n",
    "        driver.execute_script(\"arguments[0].click();\", topic_elm)\n",
    "    except Exception as e:\n",
    "        print(f\"unable to start test :{e}\")\n",
    "        return -1\n",
    "    take_test_for_sel_topic_xp = '//*[@id=\"topic_custom_footer\"]/button'          \n",
    "    take_test_for_sel_topic_elm = driver.find_element(By.XPATH, take_test_for_sel_topic_xp)\n",
    "    driver.execute_script(\"arguments[0].click();\", take_test_for_sel_topic_elm)\n",
    "    time.sleep(1)\n",
    "    go_for_it_xp = '//*[@id=\"goto-exam-btn\"]'\n",
    "    go_for_it_elm = driver.find_element(By.XPATH, go_for_it_xp)\n",
    "    driver.execute_script(\"arguments[0].click();\", go_for_it_elm)\n",
    "    \n",
    "    return \n",
    "\n",
    "topic_id = 3623\n",
    "start_test(topic_id)\n"
   ]
  },
  {
   "cell_type": "code",
   "execution_count": null,
   "id": "79f751c1-85be-44db-8a07-4ed5f845a1ac",
   "metadata": {},
   "outputs": [],
   "source": [
    "\n",
    "def get_curr_q_id():\n",
    "    curr_q_xp = '//*[@id=\"current_question\"]'\n",
    "    curr_q_elm = driver.find_element(By.XPATH, curr_q_xp)\n",
    "    curr_q_id = curr_q_elm.get_attribute('value')    \n",
    "    return int(curr_q_id)\n",
    "get_curr_q_id()\n"
   ]
  },
  {
   "cell_type": "code",
   "execution_count": 107,
   "id": "4156a3f7-fa55-402f-af18-b0e9482d54f3",
   "metadata": {},
   "outputs": [],
   "source": [
    "\n",
    "def do_question(o_xps, save_and_next_xp, wait):\n",
    "    # choose option\n",
    "    for o_xp in o_xps:\n",
    "        o_xp_elm = driver.find_element(By.XPATH, o_xp)\n",
    "        time.sleep(1)\n",
    "        driver.execute_script(\"arguments[0].click();\", o_xp_elm)\n",
    "    \n",
    "    # click save and next after wait time is over\n",
    "    time.sleep(wait)\n",
    "    save_and_next_elm = driver.find_element(By.XPATH, save_and_next_xp)\n",
    "    time.sleep(1)\n",
    "    driver.execute_script(\"arguments[0].click();\", save_and_next_elm)\n",
    "    return\n"
   ]
  },
  {
   "cell_type": "code",
   "execution_count": 195,
   "id": "d875edbd-62e9-4705-9416-8f8a6a841694",
   "metadata": {},
   "outputs": [],
   "source": [
    "\n",
    "def get_corr_options(q_id, prob):\n",
    "    ans_text = q_data[q_data['question_id']==q_id]['answers'].values[0]\n",
    "    ans_text_dict = json.loads(ans_text)\n",
    "    corr_options = list(ans_text_dict.keys())\n",
    "    corr_options = [int(i) for i in corr_options]\n",
    "    incorr_options = [i for i in range(1,5) if i not in corr_options]\n",
    "    if random.random() > prob:\n",
    "        corr_options[0] = incorr_options[0]\n",
    "    return corr_options\n",
    "\n"
   ]
  },
  {
   "cell_type": "code",
   "execution_count": 240,
   "id": "301ae7b1-c0db-4ae7-a940-c190c6ba2ada",
   "metadata": {
    "scrolled": true,
    "tags": []
   },
   "outputs": [],
   "source": [
    "# Attempt Topic test\n",
    "\n",
    "def do_topic_test():\n",
    "    \n",
    "    # Do first question\n",
    "    curr_q_id = get_curr_q_id()\n",
    "    corr_options = get_corr_options(curr_q_id, prob)\n",
    "    count = 0\n",
    "    o_xps = []\n",
    "    for corr_option in corr_options:\n",
    "        o_xp_f = f'//*[@id=\"question_section\"]/div[2]/div[2]/div[{corr_option}]/div/label'\n",
    "        o_xps.append(o_xp_f)\n",
    "    \n",
    "    do_question(o_xps, save_and_next_xp_f, wait)\n",
    "    count += 1\n",
    "    print(f'No. of questions done: {count}')\n",
    "\n",
    "    # Do other questions\n",
    "    sub_test_xp = '//*[@id=\"bt-modal-confirm_over\"]'\n",
    "    sub_test_elm = driver.find_element(By.XPATH, sub_test_xp)\n",
    "    test_end_condition = sub_test_elm.get_attribute('innerText')\n",
    "\n",
    "    while test_end_condition != 'SUBMIT TEST':\n",
    "        o_xps = []\n",
    "        curr_q_id = get_curr_q_id()\n",
    "        corr_options = get_corr_options(curr_q_id, prob)\n",
    "        for corr_option in corr_options:\n",
    "            o_xp_o = f'//*[@id=\"question_section\"]/div/div[2]/div[2]/div[{corr_option}]/div/label'\n",
    "            o_xps.append(o_xp_o)\n",
    "\n",
    "        time.sleep(1)\n",
    "        do_question(o_xps, save_and_next_xp_o, wait)\n",
    "        count += 1\n",
    "        print(f'No. of questions done: {count}')\n",
    "        sub_test_elm = driver.find_element(By.XPATH, sub_test_xp)\n",
    "        test_end_condition = sub_test_elm.get_attribute('innerText')\n",
    "\n",
    "    time.sleep(1)\n",
    "    driver.execute_script(\"arguments[0].click();\", sub_test_elm)\n",
    "    # driver.save_screenshot(os.path.join(os.getcwd(),'botTestOutput',f'{Subject[0]}_{Topic}.png'))\n",
    "    return \n"
   ]
  },
  {
   "cell_type": "code",
   "execution_count": 243,
   "id": "95fdf608-1a72-4f96-8edd-b9246f2f282a",
   "metadata": {},
   "outputs": [
    {
     "name": "stdout",
     "output_type": "stream",
     "text": [
      "No. of questions done: 1\n",
      "No. of questions done: 2\n",
      "No. of questions done: 3\n",
      "No. of questions done: 4\n",
      "No. of questions done: 5\n",
      "No. of questions done: 6\n",
      "No. of questions done: 7\n",
      "No. of questions done: 8\n",
      "No. of questions done: 9\n",
      "No. of questions done: 10\n",
      "No. of questions done: 11\n",
      "No. of questions done: 12\n",
      "No. of questions done: 13\n"
     ]
    }
   ],
   "source": [
    "do_topic_test()"
   ]
  },
  {
   "cell_type": "code",
   "execution_count": null,
   "id": "e90a4e81-1939-4c18-b804-948b3b6c759e",
   "metadata": {},
   "outputs": [],
   "source": [
    "\n",
    "\n"
   ]
  },
  {
   "cell_type": "code",
   "execution_count": null,
   "id": "cd50e2ed-1a07-4db9-aa56-eb9e49f4a93f",
   "metadata": {},
   "outputs": [],
   "source": [
    "# starting point\n",
    "\n",
    "\n"
   ]
  },
  {
   "cell_type": "code",
   "execution_count": null,
   "id": "5d35854d-6263-4d09-b77a-caa816e4260c",
   "metadata": {},
   "outputs": [],
   "source": []
  },
  {
   "cell_type": "code",
   "execution_count": null,
   "id": "fbb5dccb-0b38-4ade-a42a-cc48383348b5",
   "metadata": {},
   "outputs": [],
   "source": []
  },
  {
   "cell_type": "code",
   "execution_count": null,
   "id": "24388aea-a893-4945-8fe0-0712916e2d2c",
   "metadata": {},
   "outputs": [],
   "source": []
  },
  {
   "cell_type": "code",
   "execution_count": null,
   "id": "179483e8-8804-4fa5-bab4-7016bf654130",
   "metadata": {},
   "outputs": [],
   "source": []
  },
  {
   "cell_type": "code",
   "execution_count": null,
   "id": "5be8dc72-8f5a-4ddc-b21f-7b69414c9781",
   "metadata": {},
   "outputs": [],
   "source": []
  },
  {
   "cell_type": "code",
   "execution_count": null,
   "id": "e22a9214-f41a-440c-926e-6e11e2328f2d",
   "metadata": {},
   "outputs": [],
   "source": []
  },
  {
   "cell_type": "code",
   "execution_count": null,
   "id": "f96754c9-fc79-4ff1-9f8c-55ec704084f6",
   "metadata": {},
   "outputs": [],
   "source": []
  },
  {
   "cell_type": "code",
   "execution_count": null,
   "id": "8e508fa2-aac6-415a-8bb6-989d39340f35",
   "metadata": {},
   "outputs": [],
   "source": []
  },
  {
   "cell_type": "code",
   "execution_count": null,
   "id": "2ab92e14-b9c1-4104-9088-62d62d167f5f",
   "metadata": {},
   "outputs": [],
   "source": []
  },
  {
   "cell_type": "code",
   "execution_count": null,
   "id": "618adedd-a4f4-4ce4-a43b-9f9ddeda098b",
   "metadata": {},
   "outputs": [],
   "source": []
  },
  {
   "cell_type": "code",
   "execution_count": null,
   "id": "20e0ef12-8029-4c69-94cc-ea70e14aaca8",
   "metadata": {},
   "outputs": [],
   "source": []
  },
  {
   "cell_type": "code",
   "execution_count": null,
   "id": "27411b16-a808-4756-a6a2-b553bfda09b5",
   "metadata": {},
   "outputs": [],
   "source": []
  },
  {
   "cell_type": "code",
   "execution_count": null,
   "id": "a9cc378e-1f4f-45bf-b12c-688f773fc81c",
   "metadata": {},
   "outputs": [],
   "source": []
  },
  {
   "cell_type": "code",
   "execution_count": null,
   "id": "01de1497-ad78-4d54-aa78-a6189cc1b09a",
   "metadata": {},
   "outputs": [],
   "source": []
  },
  {
   "cell_type": "code",
   "execution_count": null,
   "id": "9a5dfded-0584-4cf4-a471-2bea4d751f0e",
   "metadata": {},
   "outputs": [],
   "source": []
  },
  {
   "cell_type": "code",
   "execution_count": null,
   "id": "2e103f30-246a-4db9-ac32-0018f1e8c7bd",
   "metadata": {},
   "outputs": [],
   "source": []
  },
  {
   "cell_type": "code",
   "execution_count": null,
   "id": "2b385e70-2700-4959-930c-bc79ed44e46a",
   "metadata": {},
   "outputs": [],
   "source": []
  },
  {
   "cell_type": "code",
   "execution_count": null,
   "id": "c9e1ef7d-3e62-4987-9b15-6a236ee116f2",
   "metadata": {},
   "outputs": [],
   "source": []
  },
  {
   "cell_type": "code",
   "execution_count": null,
   "id": "bb8df7be-f247-4e5b-8561-fcd566efc535",
   "metadata": {},
   "outputs": [],
   "source": []
  },
  {
   "cell_type": "code",
   "execution_count": null,
   "id": "87d208f5-70ee-48bc-b8d4-5f82e34b852f",
   "metadata": {},
   "outputs": [],
   "source": [
    "\n",
    "    "
   ]
  },
  {
   "cell_type": "code",
   "execution_count": null,
   "id": "1081fa83-6eb7-4801-bbc6-6fbfc3cc0137",
   "metadata": {},
   "outputs": [],
   "source": [
    "\n"
   ]
  },
  {
   "cell_type": "code",
   "execution_count": null,
   "id": "e3e4e0f4-b8e9-46cd-b08c-a13704dc83d4",
   "metadata": {},
   "outputs": [],
   "source": []
  },
  {
   "cell_type": "code",
   "execution_count": null,
   "id": "5d4ba421-1932-4633-bd33-f77c5ec35177",
   "metadata": {},
   "outputs": [],
   "source": []
  },
  {
   "cell_type": "code",
   "execution_count": null,
   "id": "649369e2-c5f6-4277-a692-24cb518947cf",
   "metadata": {},
   "outputs": [],
   "source": []
  }
 ],
 "metadata": {
  "kernelspec": {
   "display_name": "Python 3 (ipykernel)",
   "language": "python",
   "name": "python3"
  },
  "language_info": {
   "codemirror_mode": {
    "name": "ipython",
    "version": 3
   },
   "file_extension": ".py",
   "mimetype": "text/x-python",
   "name": "python",
   "nbconvert_exporter": "python",
   "pygments_lexer": "ipython3",
   "version": "3.9.7"
  }
 },
 "nbformat": 4,
 "nbformat_minor": 5
}
