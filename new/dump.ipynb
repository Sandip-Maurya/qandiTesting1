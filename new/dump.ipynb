{
 "cells": [
  {
   "cell_type": "code",
   "execution_count": null,
   "id": "5c3caf6d-f42b-4b69-8c57-11696adf6bb1",
   "metadata": {},
   "outputs": [],
   "source": []
  },
  {
   "cell_type": "code",
   "execution_count": null,
   "id": "1b2e4836-9554-4fdb-89cc-5a683384a0a6",
   "metadata": {},
   "outputs": [],
   "source": [
    "\n",
    "def select_sub_tab_and_expand_chp(subject, chp_id):\n",
    "    \n",
    "    # select subject tab\n",
    "    time.sleep(1)\n",
    "    subject_tab_xp = f'//*[@id=\"{subject}_btn\"]'\n",
    "    subject_tab_elm = driver.find_element(By.XPATH, subject_tab_xp)\n",
    "    driver.execute_script(\"arguments[0].click();\", subject_tab_elm)\n",
    "    \n",
    "    # expand topic\n",
    "    chp_xp = f'//*[@id=\"expand_topic_{chp_id}\"]'\n",
    "    chp_elm = driver.find_element(By.XPATH, chp_xp)\n",
    "    driver.execute_script(\"arguments[0].click();\", chp_elm)\n",
    "    return\n",
    "\n",
    "# chp_id = 225\n",
    "# select_sub_tab_and_expand_chp(chp_id)\n"
   ]
  },
  {
   "cell_type": "code",
   "execution_count": null,
   "id": "635c4a1e-a288-4418-9f9d-dedbe998cd8b",
   "metadata": {},
   "outputs": [],
   "source": [
    "math_list_innerHTML = driver.find_element(By.ID,'Mathematics_list').get_attribute('innerHTML')\n",
    "math_chp_ids = re.findall(r'id=\"chapter_box_(\\d+)\"', math_list_innerHTML)\n",
    "chp_ids\n"
   ]
  },
  {
   "cell_type": "code",
   "execution_count": 2,
   "id": "ebff2f4b-8ba2-4087-bb20-62975b30f77d",
   "metadata": {},
   "outputs": [],
   "source": [
    "math_list_content = driver.find_element(By.ID,'Physics_list').get_attribute('innerHTML')\n",
    "\n",
    "chp_ids = re.findall(r'id=\"chapter_box_(\\d+)\"', math_list_content)\n",
    "chp_ids"
   ]
  },
  {
   "cell_type": "code",
   "execution_count": null,
   "id": "d3218848-04cb-4be3-a5f4-36056d30652f",
   "metadata": {},
   "outputs": [],
   "source": [
    "def start_test(topic_id):\n",
    "     # Select topic and start the test\n",
    "    \n",
    "    topic_xp = f'//*[@id=\"chpt_topic_{topic_id}\"]'\n",
    "    topic_elm = driver.find_element(By.XPATH, topic_xp)\n",
    "    driver.execute_script(\"arguments[0].click();\", topic_elm)\n",
    "\n",
    "    take_test_for_sel_topic_xp = '//*[@id=\"topic_custom_footer\"]/button'          \n",
    "    take_test_for_sel_topic_elm = driver.find_element(By.XPATH, take_test_for_sel_topic_xp)\n",
    "    driver.execute_script(\"arguments[0].click();\", take_test_for_sel_topic_elm)\n",
    "    time.sleep(1)\n",
    "    go_for_it_xp = '//*[@id=\"goto-exam-btn\"]'\n",
    "    go_for_it_elm = driver.find_element(By.XPATH, go_for_it_xp)\n",
    "    driver.execute_script(\"arguments[0].click();\", go_for_it_elm)\n",
    "    \n",
    "    return \n",
    "\n",
    "# topic_id = 3623\n",
    "# start_test(topic_id)\n"
   ]
  },
  {
   "cell_type": "code",
   "execution_count": 240,
   "id": "301ae7b1-c0db-4ae7-a940-c190c6ba2ada",
   "metadata": {
    "scrolled": true,
    "tags": []
   },
   "outputs": [],
   "source": [
    "# driver.save_screenshot(os.path.join(os.getcwd(),'botTestOutput',f'{Subject[0]}_{Topic}.png'))\n"
   ]
  },
  {
   "cell_type": "code",
   "execution_count": null,
   "id": "cd50e2ed-1a07-4db9-aa56-eb9e49f4a93f",
   "metadata": {},
   "outputs": [],
   "source": []
  },
  {
   "cell_type": "code",
   "execution_count": 3,
   "id": "d853eb87-5178-43c6-aacf-ab7426678ded",
   "metadata": {},
   "outputs": [],
   "source": []
  },
  {
   "cell_type": "code",
   "execution_count": 5,
   "id": "6cdea4eb-a392-401d-9814-62291825bcdb",
   "metadata": {},
   "outputs": [
    {
     "data": {
      "text/plain": [
       "'<div class=\"number-block\" style=\"height: 170px;\">\\n                                                                \\n                                                                \\n                                                                <button class=\"btn btn-light-green mb-4 rounded-0 next_button activequestion\" id=\"btn_171439\" onclick=\"qnext(\\'171439\\')\">1</button>\\n                                                                                                                                \\n                                                                <button class=\"btn btn-light-green mb-4 rounded-0 next_button\" id=\"btn_27716\" onclick=\"qnext(\\'27716\\')\">2</button>\\n                                                                                                                                \\n                                                                <button class=\"btn btn-light-green mb-4 rounded-0 next_button\" id=\"btn_26404\" onclick=\"qnext(\\'26404\\')\">3</button>\\n           '"
      ]
     },
     "execution_count": 5,
     "metadata": {},
     "output_type": "execute_result"
    }
   ],
   "source": [
    "html[:1000]"
   ]
  },
  {
   "cell_type": "code",
   "execution_count": null,
   "id": "b1cac3dc-c9aa-4eb5-adfa-cd6e8991b7a0",
   "metadata": {},
   "outputs": [],
   "source": [
    "ids = re.findall(r'id=\"btn_(\\d+)\"', html)\n",
    "ids"
   ]
  },
  {
   "cell_type": "code",
   "execution_count": 7,
   "id": "bfb5c479-510b-495b-8617-dd61b80e3237",
   "metadata": {},
   "outputs": [
    {
     "data": {
      "text/plain": [
       "[171439, 27716]"
      ]
     },
     "execution_count": 7,
     "metadata": {},
     "output_type": "execute_result"
    }
   ],
   "source": [
    "ids = [int(i) for i in ids]\n",
    "ids[:2]"
   ]
  },
  {
   "cell_type": "code",
   "execution_count": 8,
   "id": "2a22ce3c-2516-4456-a714-52137bbbf954",
   "metadata": {},
   "outputs": [
    {
     "name": "stdout",
     "output_type": "stream",
     "text": [
      "171439 27716 26404 24041 24191 27704 27718 27720 27726 27727 27782 27802 58417 27888 59672 59684 14395 27714 27725 27801 59698 27709 59728 171524 27711 27880 171526 59723 171466 15522 171481 27717 24039 24188 27724 24042\n"
     ]
    }
   ],
   "source": [
    "print(*ids)"
   ]
  },
  {
   "cell_type": "code",
   "execution_count": 10,
   "id": "79f751c1-85be-44db-8a07-4ed5f845a1ac",
   "metadata": {},
   "outputs": [
    {
     "data": {
      "text/plain": [
       "36"
      ]
     },
     "execution_count": 10,
     "metadata": {},
     "output_type": "execute_result"
    }
   ],
   "source": [
    "len(ids)"
   ]
  },
  {
   "cell_type": "code",
   "execution_count": 11,
   "id": "4156a3f7-fa55-402f-af18-b0e9482d54f3",
   "metadata": {},
   "outputs": [
    {
     "data": {
      "text/plain": [
       "36"
      ]
     },
     "execution_count": 11,
     "metadata": {},
     "output_type": "execute_result"
    }
   ],
   "source": [
    "len(set(ids))"
   ]
  },
  {
   "cell_type": "code",
   "execution_count": 195,
   "id": "d875edbd-62e9-4705-9416-8f8a6a841694",
   "metadata": {},
   "outputs": [],
   "source": []
  },
  {
   "cell_type": "code",
   "execution_count": null,
   "id": "95fdf608-1a72-4f96-8edd-b9246f2f282a",
   "metadata": {},
   "outputs": [],
   "source": []
  },
  {
   "cell_type": "code",
   "execution_count": null,
   "id": "e90a4e81-1939-4c18-b804-948b3b6c759e",
   "metadata": {},
   "outputs": [],
   "source": []
  },
  {
   "cell_type": "code",
   "execution_count": null,
   "id": "5d35854d-6263-4d09-b77a-caa816e4260c",
   "metadata": {},
   "outputs": [],
   "source": []
  },
  {
   "cell_type": "code",
   "execution_count": null,
   "id": "fbb5dccb-0b38-4ade-a42a-cc48383348b5",
   "metadata": {},
   "outputs": [],
   "source": []
  },
  {
   "cell_type": "code",
   "execution_count": null,
   "id": "24388aea-a893-4945-8fe0-0712916e2d2c",
   "metadata": {},
   "outputs": [],
   "source": []
  },
  {
   "cell_type": "code",
   "execution_count": null,
   "id": "179483e8-8804-4fa5-bab4-7016bf654130",
   "metadata": {},
   "outputs": [],
   "source": []
  },
  {
   "cell_type": "code",
   "execution_count": null,
   "id": "5be8dc72-8f5a-4ddc-b21f-7b69414c9781",
   "metadata": {},
   "outputs": [],
   "source": []
  },
  {
   "cell_type": "code",
   "execution_count": null,
   "id": "e22a9214-f41a-440c-926e-6e11e2328f2d",
   "metadata": {},
   "outputs": [],
   "source": []
  },
  {
   "cell_type": "code",
   "execution_count": null,
   "id": "f96754c9-fc79-4ff1-9f8c-55ec704084f6",
   "metadata": {},
   "outputs": [],
   "source": []
  },
  {
   "cell_type": "code",
   "execution_count": null,
   "id": "8e508fa2-aac6-415a-8bb6-989d39340f35",
   "metadata": {},
   "outputs": [],
   "source": []
  },
  {
   "cell_type": "code",
   "execution_count": null,
   "id": "2ab92e14-b9c1-4104-9088-62d62d167f5f",
   "metadata": {},
   "outputs": [],
   "source": []
  },
  {
   "cell_type": "code",
   "execution_count": null,
   "id": "618adedd-a4f4-4ce4-a43b-9f9ddeda098b",
   "metadata": {},
   "outputs": [],
   "source": []
  },
  {
   "cell_type": "code",
   "execution_count": null,
   "id": "20e0ef12-8029-4c69-94cc-ea70e14aaca8",
   "metadata": {},
   "outputs": [],
   "source": []
  },
  {
   "cell_type": "code",
   "execution_count": null,
   "id": "27411b16-a808-4756-a6a2-b553bfda09b5",
   "metadata": {},
   "outputs": [],
   "source": []
  },
  {
   "cell_type": "code",
   "execution_count": null,
   "id": "a9cc378e-1f4f-45bf-b12c-688f773fc81c",
   "metadata": {},
   "outputs": [],
   "source": []
  },
  {
   "cell_type": "code",
   "execution_count": null,
   "id": "01de1497-ad78-4d54-aa78-a6189cc1b09a",
   "metadata": {},
   "outputs": [],
   "source": []
  },
  {
   "cell_type": "code",
   "execution_count": null,
   "id": "9a5dfded-0584-4cf4-a471-2bea4d751f0e",
   "metadata": {},
   "outputs": [],
   "source": []
  },
  {
   "cell_type": "code",
   "execution_count": null,
   "id": "2e103f30-246a-4db9-ac32-0018f1e8c7bd",
   "metadata": {},
   "outputs": [],
   "source": []
  },
  {
   "cell_type": "code",
   "execution_count": null,
   "id": "2b385e70-2700-4959-930c-bc79ed44e46a",
   "metadata": {},
   "outputs": [],
   "source": []
  },
  {
   "cell_type": "code",
   "execution_count": null,
   "id": "c9e1ef7d-3e62-4987-9b15-6a236ee116f2",
   "metadata": {},
   "outputs": [],
   "source": []
  },
  {
   "cell_type": "code",
   "execution_count": null,
   "id": "bb8df7be-f247-4e5b-8561-fcd566efc535",
   "metadata": {},
   "outputs": [],
   "source": []
  },
  {
   "cell_type": "code",
   "execution_count": null,
   "id": "87d208f5-70ee-48bc-b8d4-5f82e34b852f",
   "metadata": {},
   "outputs": [],
   "source": []
  },
  {
   "cell_type": "code",
   "execution_count": null,
   "id": "1081fa83-6eb7-4801-bbc6-6fbfc3cc0137",
   "metadata": {},
   "outputs": [],
   "source": []
  },
  {
   "cell_type": "code",
   "execution_count": null,
   "id": "e3e4e0f4-b8e9-46cd-b08c-a13704dc83d4",
   "metadata": {},
   "outputs": [],
   "source": []
  },
  {
   "cell_type": "code",
   "execution_count": null,
   "id": "5d4ba421-1932-4633-bd33-f77c5ec35177",
   "metadata": {},
   "outputs": [],
   "source": []
  },
  {
   "cell_type": "code",
   "execution_count": null,
   "id": "649369e2-c5f6-4277-a692-24cb518947cf",
   "metadata": {},
   "outputs": [],
   "source": []
  }
 ],
 "metadata": {
  "kernelspec": {
   "display_name": "Python 3 (ipykernel)",
   "language": "python",
   "name": "python3"
  },
  "language_info": {
   "codemirror_mode": {
    "name": "ipython",
    "version": 3
   },
   "file_extension": ".py",
   "mimetype": "text/x-python",
   "name": "python",
   "nbconvert_exporter": "python",
   "pygments_lexer": "ipython3",
   "version": "3.9.7"
  }
 },
 "nbformat": 4,
 "nbformat_minor": 5
}
