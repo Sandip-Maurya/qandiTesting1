{
 "cells": [
  {
   "cell_type": "code",
   "execution_count": 1,
   "id": "ec59472a-7758-4df0-b6b6-9b18bd9079dc",
   "metadata": {},
   "outputs": [],
   "source": [
    "from selenium import webdriver\n",
    "from selenium.webdriver.common.by import By\n",
    "from selenium.webdriver.chrome.options import Options\n",
    "from selenium.webdriver.chrome.service import Service\n",
    "import time, datetime, smtplib, random\n",
    "from email.message import EmailMessage\n",
    "import re\n",
    "import time\n",
    "import pandas as pd\n",
    "\n",
    "\n",
    "# path = \"/usr/bin/chromedriver\" \n",
    "path = r'C:\\Users\\USER\\Desktop\\chrmDrvrDir\\chromedriver.exe'\n",
    "\n",
    "ser = Service(path)\n",
    "chromeOptions = Options()\n",
    "chromeOptions.add_argument('--no-sandbox')\n",
    "# chromeOptions.add_argument('--headless')\n",
    "\n",
    "driver = webdriver.Chrome(service = ser,  options=chromeOptions)\n"
   ]
  },
  {
   "cell_type": "code",
   "execution_count": 2,
   "id": "0b1d3228-319f-4248-9b30-878ca91699e4",
   "metadata": {},
   "outputs": [],
   "source": [
    "# xpaths and other data\n",
    "\n",
    "login_url = 'https://app.qandi.com/login'\n",
    "email = 'skm4985@gmail.com'\n",
    "email_xp = '//*[@id=\"mobile_num\"]'\n",
    "next_btn_xp = '//*[@id=\"mobile-input-btn\"]'\n",
    "custom_exam_url = 'https://app.qandi.com/exam_custom'\n",
    "\n",
    "# For first question\n",
    "o1_xp_f = '//*[@id=\"question_section\"]/div[2]/div[2]/div[1]/div/label'\n",
    "o2_xp_f = '//*[@id=\"question_section\"]/div[2]/div[2]/div[2]/div/label'\n",
    "o3_xp_f = '//*[@id=\"question_section\"]/div[2]/div[2]/div[3]/div/label'\n",
    "o4_xp_f = '//*[@id=\"question_section\"]/div[2]/div[2]/div[4]/div/label'\n",
    "o_xps_f = [o1_xp_f, o2_xp_f, o3_xp_f, o4_xp_f]\n",
    "save_and_next_xp_f = '//*[@id=\"question_section\"]/div[3]/a[1]'\n",
    "\n",
    "# For other questions\n",
    "o1_xp_o = '//*[@id=\"question_section\"]/div/div[2]/div[2]/div[1]/div/label'\n",
    "o2_xp_o = '//*[@id=\"question_section\"]/div/div[2]/div[2]/div[2]/div/label'\n",
    "o3_xp_o = '//*[@id=\"question_section\"]/div/div[2]/div[2]/div[3]/div/label'\n",
    "o4_xp_o = '//*[@id=\"question_section\"]/div/div[2]/div[2]/div[4]/div/label'\n",
    "o_xps_o = [o1_xp_o, o2_xp_o, o3_xp_o, o4_xp_o]\n",
    "\n",
    "# other xpaths\n",
    "take_test_for_sel_topic_xp = '//*[@id=\"topic_custom_footer\"]/button'\n",
    "go_for_it_xp = '//*[@id=\"goto-exam-btn\"]'\n",
    "phy_xp = '//*[@id=\"Physics-tab\"]'\n",
    "chem_xp = '//*[@id=\"Chemistry-tab\"]'\n",
    "math_xp = '//*[@id=\"Mathematics-tab\"]'\n",
    "save_and_next_xp_o = '//*[@id=\"question_section\"]/div/div[3]/a[1]'\n",
    "\n",
    "sub_test_xp = '//*[@id=\"bt-modal-confirm_over\"]'\n"
   ]
  },
  {
   "cell_type": "code",
   "execution_count": 3,
   "id": "c32c4269-ea4c-4a0f-a0b3-23ccc1e4f244",
   "metadata": {},
   "outputs": [],
   "source": [
    "# Login manually \n",
    "# skm4985 id is used for testing. Mobile number is random\n",
    "\n",
    "driver.get(login_url)\n",
    "time.sleep(1)\n",
    "\n",
    "driver.find_element(By.XPATH, email_xp).send_keys(email)\n",
    "time.sleep(1)\n",
    "\n",
    "driver.find_element(By.XPATH, next_btn_xp).click()\n"
   ]
  },
  {
   "cell_type": "code",
   "execution_count": null,
   "id": "0dc26391-caea-4eda-8e91-fdcd2cd386bc",
   "metadata": {},
   "outputs": [],
   "source": [
    "# Enter otp and sign in step\n"
   ]
  },
  {
   "cell_type": "code",
   "execution_count": 4,
   "id": "081fb2cc-d3f8-4bf1-83e8-7ab58030a1dc",
   "metadata": {},
   "outputs": [
    {
     "data": {
      "text/html": [
       "<div>\n",
       "<style scoped>\n",
       "    .dataframe tbody tr th:only-of-type {\n",
       "        vertical-align: middle;\n",
       "    }\n",
       "\n",
       "    .dataframe tbody tr th {\n",
       "        vertical-align: top;\n",
       "    }\n",
       "\n",
       "    .dataframe thead th {\n",
       "        text-align: right;\n",
       "    }\n",
       "</style>\n",
       "<table border=\"1\" class=\"dataframe\">\n",
       "  <thead>\n",
       "    <tr style=\"text-align: right;\">\n",
       "      <th></th>\n",
       "      <th>q_id</th>\n",
       "      <th>corr_opt</th>\n",
       "      <th>diff_lev</th>\n",
       "      <th>top_id</th>\n",
       "      <th>chap_id</th>\n",
       "    </tr>\n",
       "  </thead>\n",
       "  <tbody>\n",
       "    <tr>\n",
       "      <th>0</th>\n",
       "      <td>2052</td>\n",
       "      <td>1</td>\n",
       "      <td>15</td>\n",
       "      <td>3699</td>\n",
       "      <td>236</td>\n",
       "    </tr>\n",
       "    <tr>\n",
       "      <th>1</th>\n",
       "      <td>2054</td>\n",
       "      <td>3</td>\n",
       "      <td>26</td>\n",
       "      <td>3646</td>\n",
       "      <td>227</td>\n",
       "    </tr>\n",
       "  </tbody>\n",
       "</table>\n",
       "</div>"
      ],
      "text/plain": [
       "   q_id  corr_opt  diff_lev  top_id  chap_id\n",
       "0  2052         1        15    3699      236\n",
       "1  2054         3        26    3646      227"
      ]
     },
     "execution_count": 4,
     "metadata": {},
     "output_type": "execute_result"
    }
   ],
   "source": [
    "# Load question_data\n",
    "q_data_df = pd.read_csv('q_data.csv')\n",
    "topic_df = pd.read_csv('Topic_ID.csv')\n",
    "q_data_df[:2]"
   ]
  },
  {
   "cell_type": "code",
   "execution_count": 5,
   "id": "fbdb7eee-ce6d-4856-90a5-94d01f0ff19a",
   "metadata": {},
   "outputs": [
    {
     "data": {
      "text/html": [
       "<div>\n",
       "<style scoped>\n",
       "    .dataframe tbody tr th:only-of-type {\n",
       "        vertical-align: middle;\n",
       "    }\n",
       "\n",
       "    .dataframe tbody tr th {\n",
       "        vertical-align: top;\n",
       "    }\n",
       "\n",
       "    .dataframe thead th {\n",
       "        text-align: right;\n",
       "    }\n",
       "</style>\n",
       "<table border=\"1\" class=\"dataframe\">\n",
       "  <thead>\n",
       "    <tr style=\"text-align: right;\">\n",
       "      <th></th>\n",
       "      <th>Sr.No</th>\n",
       "      <th>Exam</th>\n",
       "      <th>Subject</th>\n",
       "      <th>Unit</th>\n",
       "      <th>Chapter</th>\n",
       "      <th>Topic</th>\n",
       "      <th>Status</th>\n",
       "      <th>Topic ID</th>\n",
       "    </tr>\n",
       "  </thead>\n",
       "  <tbody>\n",
       "    <tr>\n",
       "      <th>0</th>\n",
       "      <td>1</td>\n",
       "      <td>JEE</td>\n",
       "      <td>Chemistry</td>\n",
       "      <td>Physical Chemistry(PC-2)</td>\n",
       "      <td>Surface Chemistry</td>\n",
       "      <td>Colloids and Emulsions</td>\n",
       "      <td>InActive</td>\n",
       "      <td>4714</td>\n",
       "    </tr>\n",
       "    <tr>\n",
       "      <th>1</th>\n",
       "      <td>2</td>\n",
       "      <td>JEE</td>\n",
       "      <td>Chemistry</td>\n",
       "      <td>Physical Chemistry(PC-2)</td>\n",
       "      <td>Surface Chemistry</td>\n",
       "      <td>Adsorption &amp; Catalysis</td>\n",
       "      <td>InActive</td>\n",
       "      <td>4713</td>\n",
       "    </tr>\n",
       "  </tbody>\n",
       "</table>\n",
       "</div>"
      ],
      "text/plain": [
       "   Sr.No Exam    Subject                      Unit            Chapter  \\\n",
       "0      1  JEE  Chemistry  Physical Chemistry(PC-2)  Surface Chemistry   \n",
       "1      2  JEE  Chemistry  Physical Chemistry(PC-2)  Surface Chemistry   \n",
       "\n",
       "                    Topic    Status  Topic ID  \n",
       "0  Colloids and Emulsions  InActive      4714  \n",
       "1  Adsorption & Catalysis  InActive      4713  "
      ]
     },
     "execution_count": 5,
     "metadata": {},
     "output_type": "execute_result"
    }
   ],
   "source": [
    "topic_df[:2]"
   ]
  },
  {
   "cell_type": "code",
   "execution_count": null,
   "id": "d5638361-efc1-4e42-92e6-3d628d9d28ee",
   "metadata": {},
   "outputs": [],
   "source": []
  },
  {
   "cell_type": "code",
   "execution_count": null,
   "id": "b88a4fcb-6ac9-4333-9a5b-aef11f4d60fb",
   "metadata": {},
   "outputs": [],
   "source": []
  },
  {
   "cell_type": "code",
   "execution_count": null,
   "id": "df5c49d0-f74e-4ee7-a7e5-d72e46e6d303",
   "metadata": {},
   "outputs": [],
   "source": []
  },
  {
   "cell_type": "code",
   "execution_count": 6,
   "id": "54e8e0a4-0225-4dd3-9ffe-7c3ffb99a1fe",
   "metadata": {},
   "outputs": [],
   "source": [
    "def get_chp_ids(sub_xp):\n",
    "    \n",
    "    driver.get(custom_exam_url)\n",
    "    time.sleep(0.5)\n",
    "    driver.find_elements(By.XPATH, sub_xp)[0].click()\n",
    "    time.sleep(1)\n",
    "    pg_src_chp_id = driver.page_source\n",
    "    chp_ids = re.findall(r'expand_topic_(\\d+)', pg_src_chp_id)\n",
    "    chp_ids = [int(i) for i in chp_ids]\n",
    "    return chp_ids\n"
   ]
  },
  {
   "cell_type": "code",
   "execution_count": 7,
   "id": "7781f200-a1a8-45c3-9088-8655119fdca5",
   "metadata": {},
   "outputs": [],
   "source": [
    "def get_topic_ids(chp_id):\n",
    "    # get subject and topic_ids from chapter id (chp_id)\n",
    "    topic_ids = q_data_df[q_data_df['chap_id']==chp_id].top_id.unique()\n",
    "    Subject = topic_df[topic_df['Topic ID']==topic_ids[0]].Subject.values[0]\n",
    "    # print(Subject)\n",
    "    \n",
    "    tab_xp = f'//*[@id=\"{Subject}-tab\"]'\n",
    "    tab_elm = driver.find_elements(By.XPATH, tab_xp)[0]\n",
    "    driver.execute_script(\"arguments[0].click();\", tab_elm)\n",
    "    \n",
    "    chp_xp = f'//*[@id=\"expand_topic_{chp_id}\"]'\n",
    "    chp_elm = driver.find_elements(By.XPATH, chp_xp)[0]\n",
    "    driver.execute_script(\"arguments[0].click();\", chp_elm)\n",
    "\n",
    "    return topic_ids\n"
   ]
  },
  {
   "cell_type": "code",
   "execution_count": 8,
   "id": "ac17fe67-f675-468d-9226-325082df3c9a",
   "metadata": {},
   "outputs": [],
   "source": [
    "def start_test_and_get_id_of_first_q(topic_id):\n",
    "    # Select topic and start the test\n",
    "    topic_xp = f'//*[@id=\"chpt_topic_{topic_id}\"]'\n",
    "    time.sleep(1)\n",
    "    \n",
    "    while True:\n",
    "        try:\n",
    "            topic_elm = driver.find_elements(By.XPATH, topic_xp)[0]\n",
    "            driver.execute_script(\"arguments[0].click();\", topic_elm)\n",
    "            break\n",
    "        except:\n",
    "            print('Inside exception of start_test_and_get_id_of_first_q function')\n",
    "            time.sleep(2)\n",
    "                \n",
    "    take_test_for_sel_topic_elm = driver.find_elements(By.XPATH, take_test_for_sel_topic_xp)[0]\n",
    "    driver.execute_script(\"arguments[0].click();\", take_test_for_sel_topic_elm)\n",
    "\n",
    "    # Exam Starts now\n",
    "    time.sleep(1)\n",
    "    go_for_it_elm = driver.find_elements(By.XPATH, go_for_it_xp)[0]\n",
    "    driver.execute_script(\"arguments[0].click();\", go_for_it_elm)\n",
    "    \n",
    "    # Get current question id\n",
    "    q_id_pg_src = driver.page_source\n",
    "    curr_q_id = re.findall(r'id=\"current_question\" value=\"(\\d+)\"', q_id_pg_src)[0]\n",
    "    curr_q_id  = int(curr_q_id)\n",
    "    return curr_q_id\n"
   ]
  },
  {
   "cell_type": "code",
   "execution_count": null,
   "id": "87d1b9fe-8652-44f7-a954-bc4218a5add3",
   "metadata": {},
   "outputs": [],
   "source": []
  },
  {
   "cell_type": "code",
   "execution_count": 9,
   "id": "578ed792-b549-4daf-ae25-f952cc8da385",
   "metadata": {},
   "outputs": [],
   "source": [
    "def choose_an_option_and_record(curr_q_id, record_df):\n",
    "    curr_q_data = q_data_df[q_data_df['q_id']==curr_q_id].iloc[0,:].tolist()\n",
    "    Response_data = [curr_q_data[1], True]\n",
    "    curr_q_record = curr_q_data + Response_data\n",
    "    record_df.loc[curr_q_id,:] = curr_q_record\n",
    "    return record_df\n",
    "# choose_an_option_and_record(curr_q_id, record_df)"
   ]
  },
  {
   "cell_type": "code",
   "execution_count": 10,
   "id": "56e083a3-33d8-48eb-8861-39872ed995d1",
   "metadata": {},
   "outputs": [],
   "source": [
    "def do_first_questions(o_xp):\n",
    "    o_xp_elm = driver.find_elements(By.XPATH, o_xp)[0]\n",
    "    driver.execute_script(\"arguments[0].click();\", o_xp_elm)\n",
    "    time.sleep(1)\n",
    "    \n",
    "    save_and_next_elm = driver.find_elements(By.XPATH, save_and_next_xp_f)[0]\n",
    "    driver.execute_script(\"arguments[0].click();\", save_and_next_elm)\n",
    "    time.sleep(0.5)\n",
    "    return \n"
   ]
  },
  {
   "cell_type": "code",
   "execution_count": 11,
   "id": "c19d9890-f5da-4763-8124-34a3fdfe0a87",
   "metadata": {},
   "outputs": [],
   "source": [
    "def do_other_questions(o_xp):\n",
    "    o_xp_elm = driver.find_elements(By.XPATH, o_xp)[0]\n",
    "    driver.execute_script(\"arguments[0].click();\", o_xp_elm)\n",
    "    time.sleep(1)\n",
    "    \n",
    "    save_and_next_elm = driver.find_elements(By.XPATH, save_and_next_xp_o)[0]\n",
    "    driver.execute_script(\"arguments[0].click();\", save_and_next_elm)\n",
    "    time.sleep(0.5)\n",
    "    return \n"
   ]
  },
  {
   "cell_type": "code",
   "execution_count": 12,
   "id": "28fc3a41-3f72-4251-9179-a567e009e568",
   "metadata": {},
   "outputs": [],
   "source": [
    "def make_csv(record_df):\n",
    "    topic_id = record_df.iloc[0,3]\n",
    "    Subject = topic_df[topic_df['Topic ID']==topic_id].Subject.values[0]\n",
    "    Topic = topic_df[topic_df['Topic ID']==topic_id].Topic.values[0]\n",
    "    \n",
    "    remove_symbols = r'\\/:*?\"<>|'\n",
    "    for symbol in remove_symbols:\n",
    "        Topic = Topic.replace(symbol, ',')\n",
    "    file_name = f'botTestOutput/{Subject[0]}_{Topic}.csv'\n",
    "    record_df.to_csv(file_name, index=False)\n",
    "    return\n"
   ]
  },
  {
   "cell_type": "code",
   "execution_count": 16,
   "id": "86cbde3e-edf9-4a4c-913e-b2ae66f23e1f",
   "metadata": {},
   "outputs": [],
   "source": [
    "def attempt_topic_test(topic_id):\n",
    "    curr_q_id = start_test_and_get_id_of_first_q(topic_id)\n",
    "    columns = 'q_id corr_opt diff_lev top_id chap_id opt_chosen isResponseCorrect'.split(' ')\n",
    "    record_df = pd.DataFrame(columns = columns)\n",
    "    record_df = choose_an_option_and_record(curr_q_id, record_df)\n",
    "    correct_option_ind = record_df.loc[curr_q_id, 'corr_opt']-1\n",
    "    o_xp = o_xps_f[correct_option_ind]\n",
    "\n",
    "    do_first_questions(o_xp)\n",
    "\n",
    "    while True:\n",
    "        try:\n",
    "            # Do the questions till all questions in the topic are exhausted\n",
    "            time.sleep(1)\n",
    "            q_id_pg_src = driver.page_source\n",
    "            curr_q_id = re.findall(r'id=\"current_question\" value=\"(\\d+)\"', q_id_pg_src)[0]\n",
    "            curr_q_id =int(curr_q_id)\n",
    "            record_df = choose_an_option_and_record(curr_q_id, record_df)\n",
    "            correct_option_ind = record_df.loc[curr_q_id, 'corr_opt']-1\n",
    "            o_xp = o_xps_o[correct_option_ind]\n",
    "            do_other_questions(o_xp)\n",
    "\n",
    "            end_exam_xp = '//*[@id=\"endExam\"]'\n",
    "            end_exam_elm = driver.find_elements(By.XPATH, test_xp)[0]\n",
    "            test_condition = end_exam_elm.value_of_css_property('display')\n",
    "            \n",
    "            if test_condition!='none':\n",
    "                print('Break due to no more questions available reason')\n",
    "                break\n",
    "        except:\n",
    "            print('Break due to other reason')\n",
    "            break\n",
    "    return record_df\n"
   ]
  },
  {
   "cell_type": "code",
   "execution_count": null,
   "id": "e8e74a10-a18b-4384-8f85-966c8e51eff5",
   "metadata": {},
   "outputs": [],
   "source": []
  },
  {
   "cell_type": "code",
   "execution_count": 14,
   "id": "3b581262-277a-43ab-81bb-5d10a0d490af",
   "metadata": {},
   "outputs": [],
   "source": [
    "# To get all the chp_ids we need any subject_tab_xp and call get_chp_ids function \n",
    "chp_ids = get_chp_ids(math_xp)"
   ]
  },
  {
   "cell_type": "code",
   "execution_count": null,
   "id": "6c994315-932a-4540-a490-598d5efc2b5a",
   "metadata": {},
   "outputs": [
    {
     "name": "stdout",
     "output_type": "stream",
     "text": [
      "Break due to other reason\n"
     ]
    }
   ],
   "source": [
    "# Start the topic test one by one\n",
    "\n",
    "driver.get(custom_exam_url)\n",
    "time.sleep(1)\n",
    "for chp_id in chp_ids[:31]:\n",
    "    topic_ids = get_topic_ids(chp_id)\n",
    "    # print(topic_ids)\n",
    "    time.sleep(1)\n",
    "    # topic_ids = list(topic_ids)\n",
    "    for topic_id in topic_ids:\n",
    "        # get_topic_ids(chp_id)\n",
    "        record_df = attempt_topic_test(topic_id)\n",
    "        sub_test_elm = driver.find_elements(By.XPATH, sub_test_xp)[0]\n",
    "        driver.execute_script(\"arguments[0].click();\", sub_test_elm)\n",
    "        # Make csv for the current topic\n",
    "        driver.get(custom_exam_url)\n",
    "        get_topic_ids(chp_id)\n",
    "        \n",
    "        make_csv(record_df)\n",
    "        print(f'Test completed for the topic id: {topic_id}')\n",
    "\n",
    "print('Done')\n",
    "record_df\n"
   ]
  },
  {
   "cell_type": "code",
   "execution_count": null,
   "id": "16e28597-5d2e-4b32-a1f4-a74d7236cc47",
   "metadata": {},
   "outputs": [],
   "source": []
  },
  {
   "cell_type": "code",
   "execution_count": null,
   "id": "86bfa89f-7056-43cc-900d-e9c9e206fa69",
   "metadata": {},
   "outputs": [],
   "source": []
  },
  {
   "cell_type": "code",
   "execution_count": null,
   "id": "947dbcc0-8031-4d1a-abeb-6a11ca49dc9c",
   "metadata": {},
   "outputs": [],
   "source": []
  },
  {
   "cell_type": "code",
   "execution_count": null,
   "id": "0c3e4a3d-d5a9-45ce-892c-a4ad1022d857",
   "metadata": {},
   "outputs": [],
   "source": []
  },
  {
   "cell_type": "code",
   "execution_count": null,
   "id": "6c2d65c1-b7fb-4854-8364-06d9d8e05073",
   "metadata": {},
   "outputs": [],
   "source": []
  },
  {
   "cell_type": "code",
   "execution_count": null,
   "id": "d3e059a0-d7ae-42f5-a8a9-feb1c011f040",
   "metadata": {},
   "outputs": [],
   "source": []
  },
  {
   "cell_type": "code",
   "execution_count": null,
   "id": "f45e61e7-5d84-4e0d-a4c9-26bf25bf12d7",
   "metadata": {},
   "outputs": [],
   "source": [
    "\n"
   ]
  },
  {
   "cell_type": "code",
   "execution_count": null,
   "id": "2de84b0b-dacb-4820-ad12-66f1bdce5b83",
   "metadata": {},
   "outputs": [],
   "source": []
  },
  {
   "cell_type": "code",
   "execution_count": null,
   "id": "f9152685-045c-468a-801b-1efdea33f0ec",
   "metadata": {},
   "outputs": [],
   "source": []
  }
 ],
 "metadata": {
  "kernelspec": {
   "display_name": "Python 3 (ipykernel)",
   "language": "python",
   "name": "python3"
  },
  "language_info": {
   "codemirror_mode": {
    "name": "ipython",
    "version": 3
   },
   "file_extension": ".py",
   "mimetype": "text/x-python",
   "name": "python",
   "nbconvert_exporter": "python",
   "pygments_lexer": "ipython3",
   "version": "3.9.7"
  }
 },
 "nbformat": 4,
 "nbformat_minor": 5
}
